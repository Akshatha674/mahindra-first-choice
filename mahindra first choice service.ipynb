{
 "cells": [
  {
   "cell_type": "markdown",
   "metadata": {},
   "source": [
    "# Capstone Project \n",
    "Mahindra First Choice Services (MFCS) is a company of Mahindra Group and is India’s leading\n",
    "chain of multi-brand car workshops with over 335+ workshops present in 267+ towns & 24\n",
    "states. It has serviced over 10,50,000 cars. The company aims to establish countrywide network\n",
    "of over 400 workshops by March 2018.\n",
    "Mahindra would now like to leverage the data that they have and address the key issues they\n",
    "have. Read along to know how you can help them improve their business.\n",
    "The dataset consist of three aspects:\n",
    "1. Customer data: where the details of the customer like the car owned, state and place\n",
    "of residence, order type, etc are present. Data dimension is of 534000 Customer entries\n",
    "2. Invoice data: where information related to customer visits and transactions are\n",
    "recorded, whether a customer as insurance claims, bifurcation of the amount paid, for\n",
    "what type of service did the customer came for, etc…\n",
    "3. Material Inventory: where information related to what kind of service did the\n",
    "customer took and what kind of material was used to service, Labor information\n",
    "and the cost for the service, Plant and plant name where the customer took the\n",
    "service."
   ]
  },
  {
   "cell_type": "code",
   "execution_count": null,
   "metadata": {},
   "outputs": [],
   "source": [
    "final_invoice = pd.read_csv('Final_invoice.csv')"
   ]
  },
  {
   "cell_type": "markdown",
   "metadata": {},
   "source": [
    "### Dropping columns with more than 50% missing values"
   ]
  },
  {
   "cell_type": "code",
   "execution_count": 193,
   "metadata": {},
   "outputs": [],
   "source": [
    "final_invoice.drop(['Unnamed: 0','Cash /Cashless Type','Claim No.','Expiry Date','Gate Pass Date','Insurance Company','Policy no.',\n",
    "                   'Service Advisor Name'],axis=1,inplace=True)"
   ]
  },
  {
   "cell_type": "markdown",
   "metadata": {},
   "source": [
    "### Dropping columns having only the number 0"
   ]
  },
  {
   "cell_type": "code",
   "execution_count": 194,
   "metadata": {},
   "outputs": [],
   "source": [
    "final_invoice.drop(final_invoice.columns[[0,1,3,4,5,6,12,13,14,15,30,38,39,40,41,42,45,46,47,48]],axis=1,inplace=True)"
   ]
  },
  {
   "cell_type": "markdown",
   "metadata": {},
   "source": [
    "#### Total Amt Wtd Tax and Total Value represent the same amount, because the existing in total value column are the same as the Total Amt Wtd Tax column, so we remove the Total Value column from the dataframe\n",
    "#### Technician name has 48% null values, for now, dropping techinician name as not required\n",
    "#### There are 40 percent NaNs in ODN No. column, the ODN No. which is present for each observation is unique, so cannot be imputed, maybe we can assign increasing serial values but for now dropping as it doesn't serve with any info"
   ]
  },
  {
   "cell_type": "code",
   "execution_count": 195,
   "metadata": {},
   "outputs": [],
   "source": [
    "final_invoice.drop(['Total Value','Technician Name','ODN No.'],axis=1,inplace=True)"
   ]
  },
  {
   "cell_type": "markdown",
   "metadata": {},
   "source": [
    "#### Dropping area/locality as it has 23890 missing values and removing NaN observations"
   ]
  },
  {
   "cell_type": "code",
   "execution_count": 196,
   "metadata": {},
   "outputs": [],
   "source": [
    "## Removing rows containing NA values\n",
    "\n",
    "final_invoice.dropna(axis=0,inplace=True)\n",
    "\n",
    "## Dropping Area/Locality\n",
    "\n",
    "final_invoice.drop(['Area / Locality'],axis=1,inplace=True)"
   ]
  },
  {
   "cell_type": "code",
   "execution_count": 197,
   "metadata": {},
   "outputs": [
    {
     "data": {
      "text/plain": [
       "(466903, 27)"
      ]
     },
     "execution_count": 197,
     "metadata": {},
     "output_type": "execute_result"
    }
   ],
   "source": [
    "final_invoice.shape"
   ]
  },
  {
   "cell_type": "code",
   "execution_count": 198,
   "metadata": {},
   "outputs": [],
   "source": [
    "final_invoice_copy1 = final_invoice.copy()"
   ]
  },
  {
   "cell_type": "markdown",
   "metadata": {},
   "source": [
    "#### Removing unwanted columns - Gate Pass Time,Invoice No,Invoice Time,JobCard Time,KMs Reading, Plant Name1, Print Status,User ID\n",
    "#### Dropping all Totals columns except total amount"
   ]
  },
  {
   "cell_type": "code",
   "execution_count": 199,
   "metadata": {},
   "outputs": [],
   "source": [
    "final_invoice.drop(['Gate Pass Time','Invoice No','Invoice Time','JobCard Time','KMs Reading','Plant Name1',\n",
    "                    'Print Status','User ID','Labour Total','Misc Total','OSL Total','Parts Total','Recovrbl Exp'],\n",
    "                   axis=1,inplace=True)"
   ]
  },
  {
   "cell_type": "code",
   "execution_count": 200,
   "metadata": {
    "scrolled": true
   },
   "outputs": [
    {
     "data": {
      "text/html": [
       "<div>\n",
       "<style scoped>\n",
       "    .dataframe tbody tr th:only-of-type {\n",
       "        vertical-align: middle;\n",
       "    }\n",
       "\n",
       "    .dataframe tbody tr th {\n",
       "        vertical-align: top;\n",
       "    }\n",
       "\n",
       "    .dataframe thead th {\n",
       "        text-align: right;\n",
       "    }\n",
       "</style>\n",
       "<table border=\"1\" class=\"dataframe\">\n",
       "  <thead>\n",
       "    <tr style=\"text-align: right;\">\n",
       "      <th></th>\n",
       "      <th>CITY</th>\n",
       "      <th>Cust Type</th>\n",
       "      <th>Customer No.</th>\n",
       "      <th>District</th>\n",
       "      <th>Invoice Date</th>\n",
       "      <th>Job Card No</th>\n",
       "      <th>JobCard Date</th>\n",
       "      <th>Make</th>\n",
       "      <th>Model</th>\n",
       "      <th>Order Type</th>\n",
       "      <th>Pin code</th>\n",
       "      <th>Plant</th>\n",
       "      <th>Regn No</th>\n",
       "      <th>Total Amt Wtd Tax.</th>\n",
       "    </tr>\n",
       "  </thead>\n",
       "  <tbody>\n",
       "    <tr>\n",
       "      <th>0</th>\n",
       "      <td>Thane</td>\n",
       "      <td>Retail</td>\n",
       "      <td>67849</td>\n",
       "      <td>Maharashtra</td>\n",
       "      <td>2015-01-02</td>\n",
       "      <td>168303</td>\n",
       "      <td>2014-12-13</td>\n",
       "      <td>GENERAL MOTORS</td>\n",
       "      <td>SPARK</td>\n",
       "      <td>Paid Service</td>\n",
       "      <td>400601</td>\n",
       "      <td>BC01</td>\n",
       "      <td>KA19MA1291</td>\n",
       "      <td>4051.95</td>\n",
       "    </tr>\n",
       "    <tr>\n",
       "      <th>1</th>\n",
       "      <td>THNAE</td>\n",
       "      <td>Retail</td>\n",
       "      <td>84419</td>\n",
       "      <td>Maharashtra</td>\n",
       "      <td>2015-01-03</td>\n",
       "      <td>173997</td>\n",
       "      <td>2015-01-02</td>\n",
       "      <td>TATA MOTORS</td>\n",
       "      <td>INDICA</td>\n",
       "      <td>SMC Value Package</td>\n",
       "      <td>400603</td>\n",
       "      <td>BC01</td>\n",
       "      <td>MH43R3046</td>\n",
       "      <td>1001.29</td>\n",
       "    </tr>\n",
       "    <tr>\n",
       "      <th>2</th>\n",
       "      <td>THANE[W]</td>\n",
       "      <td>Retail</td>\n",
       "      <td>81055</td>\n",
       "      <td>Maharashtra</td>\n",
       "      <td>2015-01-03</td>\n",
       "      <td>173889</td>\n",
       "      <td>2015-01-02</td>\n",
       "      <td>MARUTI SUZUKI</td>\n",
       "      <td>ZEN</td>\n",
       "      <td>Running Repairs</td>\n",
       "      <td>400607</td>\n",
       "      <td>BC01</td>\n",
       "      <td>AP09AX0582</td>\n",
       "      <td>233.14</td>\n",
       "    </tr>\n",
       "    <tr>\n",
       "      <th>3</th>\n",
       "      <td>THNAE</td>\n",
       "      <td>Retail</td>\n",
       "      <td>84419</td>\n",
       "      <td>Maharashtra</td>\n",
       "      <td>2015-01-03</td>\n",
       "      <td>174158</td>\n",
       "      <td>2015-01-03</td>\n",
       "      <td>TATA MOTORS</td>\n",
       "      <td>INDICA</td>\n",
       "      <td>SMC Redemption</td>\n",
       "      <td>400603</td>\n",
       "      <td>BC01</td>\n",
       "      <td>MH43R3046</td>\n",
       "      <td>0.00</td>\n",
       "    </tr>\n",
       "    <tr>\n",
       "      <th>4</th>\n",
       "      <td>THANE</td>\n",
       "      <td>Retail</td>\n",
       "      <td>18980</td>\n",
       "      <td>Maharashtra</td>\n",
       "      <td>2015-01-03</td>\n",
       "      <td>173860</td>\n",
       "      <td>2015-01-02</td>\n",
       "      <td>HYUNDAI</td>\n",
       "      <td>SANTRO XING</td>\n",
       "      <td>Paid Service</td>\n",
       "      <td>400603</td>\n",
       "      <td>BC01</td>\n",
       "      <td>MH04CD9768</td>\n",
       "      <td>2747.12</td>\n",
       "    </tr>\n",
       "  </tbody>\n",
       "</table>\n",
       "</div>"
      ],
      "text/plain": [
       "       CITY Cust Type Customer No.     District Invoice Date  Job Card No  \\\n",
       "0     Thane    Retail        67849  Maharashtra   2015-01-02       168303   \n",
       "1     THNAE    Retail        84419  Maharashtra   2015-01-03       173997   \n",
       "2  THANE[W]    Retail        81055  Maharashtra   2015-01-03       173889   \n",
       "3     THNAE    Retail        84419  Maharashtra   2015-01-03       174158   \n",
       "4     THANE    Retail        18980  Maharashtra   2015-01-03       173860   \n",
       "\n",
       "  JobCard Date            Make        Model         Order Type  Pin code  \\\n",
       "0   2014-12-13  GENERAL MOTORS        SPARK       Paid Service    400601   \n",
       "1   2015-01-02     TATA MOTORS       INDICA  SMC Value Package    400603   \n",
       "2   2015-01-02   MARUTI SUZUKI          ZEN    Running Repairs    400607   \n",
       "3   2015-01-03     TATA MOTORS       INDICA     SMC Redemption    400603   \n",
       "4   2015-01-02         HYUNDAI  SANTRO XING       Paid Service    400603   \n",
       "\n",
       "  Plant     Regn No  Total Amt Wtd Tax.  \n",
       "0  BC01  KA19MA1291             4051.95  \n",
       "1  BC01   MH43R3046             1001.29  \n",
       "2  BC01  AP09AX0582              233.14  \n",
       "3  BC01   MH43R3046                0.00  \n",
       "4  BC01  MH04CD9768             2747.12  "
      ]
     },
     "execution_count": 200,
     "metadata": {},
     "output_type": "execute_result"
    }
   ],
   "source": [
    "final_invoice.head()"
   ]
  },
  {
   "cell_type": "code",
   "execution_count": 201,
   "metadata": {},
   "outputs": [],
   "source": [
    "## There are negative values in total amount, getting the index of those observations and dropping them\n",
    "final_invoice.drop(final_invoice[final_invoice['Total Amt Wtd Tax.'] < 0].index,axis=0,inplace=True)"
   ]
  },
  {
   "cell_type": "code",
   "execution_count": 202,
   "metadata": {},
   "outputs": [],
   "source": [
    "#### Removing incorrect pincodes - numbers with less than 6 digits \n",
    "\n",
    "final_invoice.drop(final_invoice['Pin code'][final_invoice['Pin code'].astype(str).str.len() < 6].index,axis=0,inplace=True)"
   ]
  },
  {
   "cell_type": "markdown",
   "metadata": {},
   "source": [
    "###  Import Pin code data from data.gov.in to map cities and states"
   ]
  },
  {
   "cell_type": "code",
   "execution_count": 350,
   "metadata": {},
   "outputs": [],
   "source": [
    "pincode_city_map = pd.read_csv('All India Pincode Dataset_city_states.csv',encoding='cp1252')"
   ]
  },
  {
   "cell_type": "code",
   "execution_count": 351,
   "metadata": {},
   "outputs": [],
   "source": [
    "pincode_city_map.dropna(axis=0,inplace=True)"
   ]
  },
  {
   "cell_type": "code",
   "execution_count": 352,
   "metadata": {},
   "outputs": [
    {
     "data": {
      "text/html": [
       "<div>\n",
       "<style scoped>\n",
       "    .dataframe tbody tr th:only-of-type {\n",
       "        vertical-align: middle;\n",
       "    }\n",
       "\n",
       "    .dataframe tbody tr th {\n",
       "        vertical-align: top;\n",
       "    }\n",
       "\n",
       "    .dataframe thead th {\n",
       "        text-align: right;\n",
       "    }\n",
       "</style>\n",
       "<table border=\"1\" class=\"dataframe\">\n",
       "  <thead>\n",
       "    <tr style=\"text-align: right;\">\n",
       "      <th></th>\n",
       "      <th>Pincode</th>\n",
       "      <th>District</th>\n",
       "      <th>StateName</th>\n",
       "    </tr>\n",
       "  </thead>\n",
       "  <tbody>\n",
       "    <tr>\n",
       "      <th>0</th>\n",
       "      <td>515004</td>\n",
       "      <td>ANANTHAPUR</td>\n",
       "      <td>Andhra Pradesh</td>\n",
       "    </tr>\n",
       "    <tr>\n",
       "      <th>1</th>\n",
       "      <td>515731</td>\n",
       "      <td>ANANTHAPUR</td>\n",
       "      <td>Andhra Pradesh</td>\n",
       "    </tr>\n",
       "    <tr>\n",
       "      <th>2</th>\n",
       "      <td>515002</td>\n",
       "      <td>ANANTHAPUR</td>\n",
       "      <td>Andhra Pradesh</td>\n",
       "    </tr>\n",
       "    <tr>\n",
       "      <th>3</th>\n",
       "      <td>515766</td>\n",
       "      <td>ANANTHAPUR</td>\n",
       "      <td>Andhra Pradesh</td>\n",
       "    </tr>\n",
       "    <tr>\n",
       "      <th>4</th>\n",
       "      <td>515415</td>\n",
       "      <td>ANANTHAPUR</td>\n",
       "      <td>Andhra Pradesh</td>\n",
       "    </tr>\n",
       "  </tbody>\n",
       "</table>\n",
       "</div>"
      ],
      "text/plain": [
       "   Pincode    District       StateName\n",
       "0   515004  ANANTHAPUR  Andhra Pradesh\n",
       "1   515731  ANANTHAPUR  Andhra Pradesh\n",
       "2   515002  ANANTHAPUR  Andhra Pradesh\n",
       "3   515766  ANANTHAPUR  Andhra Pradesh\n",
       "4   515415  ANANTHAPUR  Andhra Pradesh"
      ]
     },
     "execution_count": 352,
     "metadata": {},
     "output_type": "execute_result"
    }
   ],
   "source": [
    "pincode_city_map.head()"
   ]
  },
  {
   "cell_type": "code",
   "execution_count": 354,
   "metadata": {},
   "outputs": [
    {
     "name": "stderr",
     "output_type": "stream",
     "text": [
      "C:\\Users\\shami\\Anaconda3\\lib\\site-packages\\ipykernel_launcher.py:1: UserWarning: DataFrame columns are not unique, some columns will be omitted.\n",
      "  \"\"\"Entry point for launching an IPython kernel.\n"
     ]
    }
   ],
   "source": [
    "pin_city_map_dict = pincode_city_map[['Pincode','District']].set_index('Pincode').T.to_dict('list')"
   ]
  },
  {
   "cell_type": "code",
   "execution_count": 355,
   "metadata": {},
   "outputs": [],
   "source": [
    "final_invoice['City'] = final_invoice['Pin code'].map(pin_city_map_dict)"
   ]
  },
  {
   "cell_type": "code",
   "execution_count": 356,
   "metadata": {},
   "outputs": [],
   "source": [
    "final_invoice['City'] = final_invoice['City'].str.join('')"
   ]
  },
  {
   "cell_type": "code",
   "execution_count": 357,
   "metadata": {},
   "outputs": [
    {
     "data": {
      "text/html": [
       "<div>\n",
       "<style scoped>\n",
       "    .dataframe tbody tr th:only-of-type {\n",
       "        vertical-align: middle;\n",
       "    }\n",
       "\n",
       "    .dataframe tbody tr th {\n",
       "        vertical-align: top;\n",
       "    }\n",
       "\n",
       "    .dataframe thead th {\n",
       "        text-align: right;\n",
       "    }\n",
       "</style>\n",
       "<table border=\"1\" class=\"dataframe\">\n",
       "  <thead>\n",
       "    <tr style=\"text-align: right;\">\n",
       "      <th></th>\n",
       "      <th>CITY</th>\n",
       "      <th>Cust Type</th>\n",
       "      <th>Customer No.</th>\n",
       "      <th>District</th>\n",
       "      <th>Invoice Date</th>\n",
       "      <th>Job Card No</th>\n",
       "      <th>JobCard Date</th>\n",
       "      <th>Make</th>\n",
       "      <th>Model</th>\n",
       "      <th>Order Type</th>\n",
       "      <th>Pin code</th>\n",
       "      <th>Plant</th>\n",
       "      <th>Regn No</th>\n",
       "      <th>Total Amt Wtd Tax.</th>\n",
       "      <th>City</th>\n",
       "      <th>Year</th>\n",
       "    </tr>\n",
       "  </thead>\n",
       "  <tbody>\n",
       "    <tr>\n",
       "      <th>0</th>\n",
       "      <td>Thane</td>\n",
       "      <td>Retail</td>\n",
       "      <td>67849</td>\n",
       "      <td>Maharashtra</td>\n",
       "      <td>2015-01-02</td>\n",
       "      <td>168303</td>\n",
       "      <td>2014-12-13</td>\n",
       "      <td>GENERAL MOTORS</td>\n",
       "      <td>SPARK</td>\n",
       "      <td>Paid Service</td>\n",
       "      <td>400601</td>\n",
       "      <td>BC01</td>\n",
       "      <td>KA19MA1291</td>\n",
       "      <td>4051.95</td>\n",
       "      <td>THANE</td>\n",
       "      <td>2014</td>\n",
       "    </tr>\n",
       "    <tr>\n",
       "      <th>1</th>\n",
       "      <td>THNAE</td>\n",
       "      <td>Retail</td>\n",
       "      <td>84419</td>\n",
       "      <td>Maharashtra</td>\n",
       "      <td>2015-01-03</td>\n",
       "      <td>173997</td>\n",
       "      <td>2015-01-02</td>\n",
       "      <td>TATA MOTORS</td>\n",
       "      <td>INDICA</td>\n",
       "      <td>SMC Value Package</td>\n",
       "      <td>400603</td>\n",
       "      <td>BC01</td>\n",
       "      <td>MH43R3046</td>\n",
       "      <td>1001.29</td>\n",
       "      <td>THANE</td>\n",
       "      <td>2015</td>\n",
       "    </tr>\n",
       "    <tr>\n",
       "      <th>2</th>\n",
       "      <td>THANE[W]</td>\n",
       "      <td>Retail</td>\n",
       "      <td>81055</td>\n",
       "      <td>Maharashtra</td>\n",
       "      <td>2015-01-03</td>\n",
       "      <td>173889</td>\n",
       "      <td>2015-01-02</td>\n",
       "      <td>MARUTI SUZUKI</td>\n",
       "      <td>ZEN</td>\n",
       "      <td>Running Repairs</td>\n",
       "      <td>400607</td>\n",
       "      <td>BC01</td>\n",
       "      <td>AP09AX0582</td>\n",
       "      <td>233.14</td>\n",
       "      <td>THANE</td>\n",
       "      <td>2015</td>\n",
       "    </tr>\n",
       "    <tr>\n",
       "      <th>3</th>\n",
       "      <td>THNAE</td>\n",
       "      <td>Retail</td>\n",
       "      <td>84419</td>\n",
       "      <td>Maharashtra</td>\n",
       "      <td>2015-01-03</td>\n",
       "      <td>174158</td>\n",
       "      <td>2015-01-03</td>\n",
       "      <td>TATA MOTORS</td>\n",
       "      <td>INDICA</td>\n",
       "      <td>SMC Redemption</td>\n",
       "      <td>400603</td>\n",
       "      <td>BC01</td>\n",
       "      <td>MH43R3046</td>\n",
       "      <td>0.00</td>\n",
       "      <td>THANE</td>\n",
       "      <td>2015</td>\n",
       "    </tr>\n",
       "    <tr>\n",
       "      <th>4</th>\n",
       "      <td>THANE</td>\n",
       "      <td>Retail</td>\n",
       "      <td>18980</td>\n",
       "      <td>Maharashtra</td>\n",
       "      <td>2015-01-03</td>\n",
       "      <td>173860</td>\n",
       "      <td>2015-01-02</td>\n",
       "      <td>HYUNDAI</td>\n",
       "      <td>SANTRO XING</td>\n",
       "      <td>Paid Service</td>\n",
       "      <td>400603</td>\n",
       "      <td>BC01</td>\n",
       "      <td>MH04CD9768</td>\n",
       "      <td>2747.12</td>\n",
       "      <td>THANE</td>\n",
       "      <td>2015</td>\n",
       "    </tr>\n",
       "  </tbody>\n",
       "</table>\n",
       "</div>"
      ],
      "text/plain": [
       "       CITY Cust Type Customer No.     District Invoice Date  Job Card No  \\\n",
       "0     Thane    Retail        67849  Maharashtra   2015-01-02       168303   \n",
       "1     THNAE    Retail        84419  Maharashtra   2015-01-03       173997   \n",
       "2  THANE[W]    Retail        81055  Maharashtra   2015-01-03       173889   \n",
       "3     THNAE    Retail        84419  Maharashtra   2015-01-03       174158   \n",
       "4     THANE    Retail        18980  Maharashtra   2015-01-03       173860   \n",
       "\n",
       "  JobCard Date            Make        Model         Order Type  Pin code  \\\n",
       "0   2014-12-13  GENERAL MOTORS        SPARK       Paid Service    400601   \n",
       "1   2015-01-02     TATA MOTORS       INDICA  SMC Value Package    400603   \n",
       "2   2015-01-02   MARUTI SUZUKI          ZEN    Running Repairs    400607   \n",
       "3   2015-01-03     TATA MOTORS       INDICA     SMC Redemption    400603   \n",
       "4   2015-01-02         HYUNDAI  SANTRO XING       Paid Service    400603   \n",
       "\n",
       "  Plant     Regn No  Total Amt Wtd Tax.   City  Year  \n",
       "0  BC01  KA19MA1291             4051.95  THANE  2014  \n",
       "1  BC01   MH43R3046             1001.29  THANE  2015  \n",
       "2  BC01  AP09AX0582              233.14  THANE  2015  \n",
       "3  BC01   MH43R3046                0.00  THANE  2015  \n",
       "4  BC01  MH04CD9768             2747.12  THANE  2015  "
      ]
     },
     "execution_count": 357,
     "metadata": {},
     "output_type": "execute_result"
    }
   ],
   "source": [
    "final_invoice.head()"
   ]
  },
  {
   "cell_type": "code",
   "execution_count": 358,
   "metadata": {},
   "outputs": [
    {
     "name": "stderr",
     "output_type": "stream",
     "text": [
      "C:\\Users\\shami\\Anaconda3\\lib\\site-packages\\ipykernel_launcher.py:1: UserWarning: DataFrame columns are not unique, some columns will be omitted.\n",
      "  \"\"\"Entry point for launching an IPython kernel.\n"
     ]
    }
   ],
   "source": [
    "city_state_map_dict = pincode_city_map[['District','StateName']].set_index('District').T.to_dict('list')"
   ]
  },
  {
   "cell_type": "code",
   "execution_count": 360,
   "metadata": {},
   "outputs": [],
   "source": [
    "final_invoice['State'] = final_invoice['City'].map(city_state_map_dict)"
   ]
  },
  {
   "cell_type": "code",
   "execution_count": 361,
   "metadata": {},
   "outputs": [],
   "source": [
    "final_invoice['State'] = final_invoice['State'].str.join('')"
   ]
  },
  {
   "cell_type": "code",
   "execution_count": 362,
   "metadata": {},
   "outputs": [
    {
     "data": {
      "text/html": [
       "<div>\n",
       "<style scoped>\n",
       "    .dataframe tbody tr th:only-of-type {\n",
       "        vertical-align: middle;\n",
       "    }\n",
       "\n",
       "    .dataframe tbody tr th {\n",
       "        vertical-align: top;\n",
       "    }\n",
       "\n",
       "    .dataframe thead th {\n",
       "        text-align: right;\n",
       "    }\n",
       "</style>\n",
       "<table border=\"1\" class=\"dataframe\">\n",
       "  <thead>\n",
       "    <tr style=\"text-align: right;\">\n",
       "      <th></th>\n",
       "      <th>CITY</th>\n",
       "      <th>Cust Type</th>\n",
       "      <th>Customer No.</th>\n",
       "      <th>District</th>\n",
       "      <th>Invoice Date</th>\n",
       "      <th>Job Card No</th>\n",
       "      <th>JobCard Date</th>\n",
       "      <th>Make</th>\n",
       "      <th>Model</th>\n",
       "      <th>Order Type</th>\n",
       "      <th>Pin code</th>\n",
       "      <th>Plant</th>\n",
       "      <th>Regn No</th>\n",
       "      <th>Total Amt Wtd Tax.</th>\n",
       "      <th>City</th>\n",
       "      <th>Year</th>\n",
       "      <th>State</th>\n",
       "    </tr>\n",
       "  </thead>\n",
       "  <tbody>\n",
       "    <tr>\n",
       "      <th>0</th>\n",
       "      <td>Thane</td>\n",
       "      <td>Retail</td>\n",
       "      <td>67849</td>\n",
       "      <td>Maharashtra</td>\n",
       "      <td>2015-01-02</td>\n",
       "      <td>168303</td>\n",
       "      <td>2014-12-13</td>\n",
       "      <td>GENERAL MOTORS</td>\n",
       "      <td>SPARK</td>\n",
       "      <td>Paid Service</td>\n",
       "      <td>400601</td>\n",
       "      <td>BC01</td>\n",
       "      <td>KA19MA1291</td>\n",
       "      <td>4051.95</td>\n",
       "      <td>THANE</td>\n",
       "      <td>2014</td>\n",
       "      <td>Maharashtra</td>\n",
       "    </tr>\n",
       "    <tr>\n",
       "      <th>1</th>\n",
       "      <td>THNAE</td>\n",
       "      <td>Retail</td>\n",
       "      <td>84419</td>\n",
       "      <td>Maharashtra</td>\n",
       "      <td>2015-01-03</td>\n",
       "      <td>173997</td>\n",
       "      <td>2015-01-02</td>\n",
       "      <td>TATA MOTORS</td>\n",
       "      <td>INDICA</td>\n",
       "      <td>SMC Value Package</td>\n",
       "      <td>400603</td>\n",
       "      <td>BC01</td>\n",
       "      <td>MH43R3046</td>\n",
       "      <td>1001.29</td>\n",
       "      <td>THANE</td>\n",
       "      <td>2015</td>\n",
       "      <td>Maharashtra</td>\n",
       "    </tr>\n",
       "    <tr>\n",
       "      <th>2</th>\n",
       "      <td>THANE[W]</td>\n",
       "      <td>Retail</td>\n",
       "      <td>81055</td>\n",
       "      <td>Maharashtra</td>\n",
       "      <td>2015-01-03</td>\n",
       "      <td>173889</td>\n",
       "      <td>2015-01-02</td>\n",
       "      <td>MARUTI SUZUKI</td>\n",
       "      <td>ZEN</td>\n",
       "      <td>Running Repairs</td>\n",
       "      <td>400607</td>\n",
       "      <td>BC01</td>\n",
       "      <td>AP09AX0582</td>\n",
       "      <td>233.14</td>\n",
       "      <td>THANE</td>\n",
       "      <td>2015</td>\n",
       "      <td>Maharashtra</td>\n",
       "    </tr>\n",
       "    <tr>\n",
       "      <th>3</th>\n",
       "      <td>THNAE</td>\n",
       "      <td>Retail</td>\n",
       "      <td>84419</td>\n",
       "      <td>Maharashtra</td>\n",
       "      <td>2015-01-03</td>\n",
       "      <td>174158</td>\n",
       "      <td>2015-01-03</td>\n",
       "      <td>TATA MOTORS</td>\n",
       "      <td>INDICA</td>\n",
       "      <td>SMC Redemption</td>\n",
       "      <td>400603</td>\n",
       "      <td>BC01</td>\n",
       "      <td>MH43R3046</td>\n",
       "      <td>0.00</td>\n",
       "      <td>THANE</td>\n",
       "      <td>2015</td>\n",
       "      <td>Maharashtra</td>\n",
       "    </tr>\n",
       "    <tr>\n",
       "      <th>4</th>\n",
       "      <td>THANE</td>\n",
       "      <td>Retail</td>\n",
       "      <td>18980</td>\n",
       "      <td>Maharashtra</td>\n",
       "      <td>2015-01-03</td>\n",
       "      <td>173860</td>\n",
       "      <td>2015-01-02</td>\n",
       "      <td>HYUNDAI</td>\n",
       "      <td>SANTRO XING</td>\n",
       "      <td>Paid Service</td>\n",
       "      <td>400603</td>\n",
       "      <td>BC01</td>\n",
       "      <td>MH04CD9768</td>\n",
       "      <td>2747.12</td>\n",
       "      <td>THANE</td>\n",
       "      <td>2015</td>\n",
       "      <td>Maharashtra</td>\n",
       "    </tr>\n",
       "  </tbody>\n",
       "</table>\n",
       "</div>"
      ],
      "text/plain": [
       "       CITY Cust Type Customer No.     District Invoice Date  Job Card No  \\\n",
       "0     Thane    Retail        67849  Maharashtra   2015-01-02       168303   \n",
       "1     THNAE    Retail        84419  Maharashtra   2015-01-03       173997   \n",
       "2  THANE[W]    Retail        81055  Maharashtra   2015-01-03       173889   \n",
       "3     THNAE    Retail        84419  Maharashtra   2015-01-03       174158   \n",
       "4     THANE    Retail        18980  Maharashtra   2015-01-03       173860   \n",
       "\n",
       "  JobCard Date            Make        Model         Order Type  Pin code  \\\n",
       "0   2014-12-13  GENERAL MOTORS        SPARK       Paid Service    400601   \n",
       "1   2015-01-02     TATA MOTORS       INDICA  SMC Value Package    400603   \n",
       "2   2015-01-02   MARUTI SUZUKI          ZEN    Running Repairs    400607   \n",
       "3   2015-01-03     TATA MOTORS       INDICA     SMC Redemption    400603   \n",
       "4   2015-01-02         HYUNDAI  SANTRO XING       Paid Service    400603   \n",
       "\n",
       "  Plant     Regn No  Total Amt Wtd Tax.   City  Year        State  \n",
       "0  BC01  KA19MA1291             4051.95  THANE  2014  Maharashtra  \n",
       "1  BC01   MH43R3046             1001.29  THANE  2015  Maharashtra  \n",
       "2  BC01  AP09AX0582              233.14  THANE  2015  Maharashtra  \n",
       "3  BC01   MH43R3046                0.00  THANE  2015  Maharashtra  \n",
       "4  BC01  MH04CD9768             2747.12  THANE  2015  Maharashtra  "
      ]
     },
     "execution_count": 362,
     "metadata": {},
     "output_type": "execute_result"
    }
   ],
   "source": [
    "final_invoice.head()"
   ]
  },
  {
   "cell_type": "code",
   "execution_count": 363,
   "metadata": {},
   "outputs": [],
   "source": [
    "final_invoice_subset = final_invoice.drop(['Regn No', 'Plant', 'JobCard Date', 'Job Card No', 'Invoice Date',\n",
    "                                          'CITY','Pin code'],axis=1)"
   ]
  },
  {
   "cell_type": "code",
   "execution_count": 364,
   "metadata": {},
   "outputs": [],
   "source": [
    "final_invoice_subset.rename(columns={\"Total Amt Wtd Tax.\": \"Total Amount\"},inplace=True)"
   ]
  },
  {
   "cell_type": "code",
   "execution_count": 365,
   "metadata": {},
   "outputs": [
    {
     "data": {
      "text/plain": [
       "Cust Type           0\n",
       "Customer No.        0\n",
       "District            0\n",
       "Make                0\n",
       "Model               0\n",
       "Order Type          0\n",
       "Total Amount        0\n",
       "City            36062\n",
       "Year                0\n",
       "State           36062\n",
       "dtype: int64"
      ]
     },
     "execution_count": 365,
     "metadata": {},
     "output_type": "execute_result"
    }
   ],
   "source": [
    "final_invoice_subset.isnull().sum()"
   ]
  },
  {
   "cell_type": "code",
   "execution_count": 366,
   "metadata": {},
   "outputs": [],
   "source": [
    "## Dropping the city values which did not get mapped acc. to postal codes in the dataset\n",
    "final_invoice_subset.dropna(axis=0,inplace=True)"
   ]
  },
  {
   "cell_type": "code",
   "execution_count": 367,
   "metadata": {},
   "outputs": [
    {
     "data": {
      "text/html": [
       "<div>\n",
       "<style scoped>\n",
       "    .dataframe tbody tr th:only-of-type {\n",
       "        vertical-align: middle;\n",
       "    }\n",
       "\n",
       "    .dataframe tbody tr th {\n",
       "        vertical-align: top;\n",
       "    }\n",
       "\n",
       "    .dataframe thead th {\n",
       "        text-align: right;\n",
       "    }\n",
       "</style>\n",
       "<table border=\"1\" class=\"dataframe\">\n",
       "  <thead>\n",
       "    <tr style=\"text-align: right;\">\n",
       "      <th></th>\n",
       "      <th>Cust Type</th>\n",
       "      <th>Customer No.</th>\n",
       "      <th>District</th>\n",
       "      <th>Make</th>\n",
       "      <th>Model</th>\n",
       "      <th>Order Type</th>\n",
       "      <th>Total Amount</th>\n",
       "      <th>City</th>\n",
       "      <th>Year</th>\n",
       "      <th>State</th>\n",
       "    </tr>\n",
       "  </thead>\n",
       "  <tbody>\n",
       "    <tr>\n",
       "      <th>0</th>\n",
       "      <td>Retail</td>\n",
       "      <td>67849</td>\n",
       "      <td>Maharashtra</td>\n",
       "      <td>GENERAL MOTORS</td>\n",
       "      <td>SPARK</td>\n",
       "      <td>Paid Service</td>\n",
       "      <td>4051.95</td>\n",
       "      <td>THANE</td>\n",
       "      <td>2014</td>\n",
       "      <td>Maharashtra</td>\n",
       "    </tr>\n",
       "    <tr>\n",
       "      <th>1</th>\n",
       "      <td>Retail</td>\n",
       "      <td>84419</td>\n",
       "      <td>Maharashtra</td>\n",
       "      <td>TATA MOTORS</td>\n",
       "      <td>INDICA</td>\n",
       "      <td>SMC Value Package</td>\n",
       "      <td>1001.29</td>\n",
       "      <td>THANE</td>\n",
       "      <td>2015</td>\n",
       "      <td>Maharashtra</td>\n",
       "    </tr>\n",
       "    <tr>\n",
       "      <th>2</th>\n",
       "      <td>Retail</td>\n",
       "      <td>81055</td>\n",
       "      <td>Maharashtra</td>\n",
       "      <td>MARUTI SUZUKI</td>\n",
       "      <td>ZEN</td>\n",
       "      <td>Running Repairs</td>\n",
       "      <td>233.14</td>\n",
       "      <td>THANE</td>\n",
       "      <td>2015</td>\n",
       "      <td>Maharashtra</td>\n",
       "    </tr>\n",
       "    <tr>\n",
       "      <th>3</th>\n",
       "      <td>Retail</td>\n",
       "      <td>84419</td>\n",
       "      <td>Maharashtra</td>\n",
       "      <td>TATA MOTORS</td>\n",
       "      <td>INDICA</td>\n",
       "      <td>SMC Redemption</td>\n",
       "      <td>0.00</td>\n",
       "      <td>THANE</td>\n",
       "      <td>2015</td>\n",
       "      <td>Maharashtra</td>\n",
       "    </tr>\n",
       "    <tr>\n",
       "      <th>4</th>\n",
       "      <td>Retail</td>\n",
       "      <td>18980</td>\n",
       "      <td>Maharashtra</td>\n",
       "      <td>HYUNDAI</td>\n",
       "      <td>SANTRO XING</td>\n",
       "      <td>Paid Service</td>\n",
       "      <td>2747.12</td>\n",
       "      <td>THANE</td>\n",
       "      <td>2015</td>\n",
       "      <td>Maharashtra</td>\n",
       "    </tr>\n",
       "  </tbody>\n",
       "</table>\n",
       "</div>"
      ],
      "text/plain": [
       "  Cust Type Customer No.     District            Make        Model  \\\n",
       "0    Retail        67849  Maharashtra  GENERAL MOTORS        SPARK   \n",
       "1    Retail        84419  Maharashtra     TATA MOTORS       INDICA   \n",
       "2    Retail        81055  Maharashtra   MARUTI SUZUKI          ZEN   \n",
       "3    Retail        84419  Maharashtra     TATA MOTORS       INDICA   \n",
       "4    Retail        18980  Maharashtra         HYUNDAI  SANTRO XING   \n",
       "\n",
       "          Order Type  Total Amount   City  Year        State  \n",
       "0       Paid Service       4051.95  THANE  2014  Maharashtra  \n",
       "1  SMC Value Package       1001.29  THANE  2015  Maharashtra  \n",
       "2    Running Repairs        233.14  THANE  2015  Maharashtra  \n",
       "3     SMC Redemption          0.00  THANE  2015  Maharashtra  \n",
       "4       Paid Service       2747.12  THANE  2015  Maharashtra  "
      ]
     },
     "execution_count": 367,
     "metadata": {},
     "output_type": "execute_result"
    }
   ],
   "source": [
    "final_invoice_subset.head()"
   ]
  },
  {
   "cell_type": "code",
   "execution_count": 217,
   "metadata": {},
   "outputs": [],
   "source": [
    "final_invoice_subset.to_excel(\"final_invoice_subset.xlsx\")"
   ]
  },
  {
   "cell_type": "code",
   "execution_count": 368,
   "metadata": {},
   "outputs": [],
   "source": [
    "final_invoice_subset['Total Amount'] = final_invoice_subset['Total Amount'].astype(int)"
   ]
  },
  {
   "cell_type": "code",
   "execution_count": 725,
   "metadata": {},
   "outputs": [
    {
     "data": {
      "text/plain": [
       "<matplotlib.axes._subplots.AxesSubplot at 0x1a14b8f2b70>"
      ]
     },
     "execution_count": 725,
     "metadata": {},
     "output_type": "execute_result"
    },
    {
     "data": {
      "image/png": "[encoded data removed]",
      "text/plain": [
       "<Figure size 576x432 with 1 Axes>"
      ]
     },
     "metadata": {
      "needs_background": "light"
     },
     "output_type": "display_data"
    }
   ],
   "source": [
    "### Area with most number of car servicing\n",
    "\n",
    "plt.figure(figsize=(8,6),edgecolor='b')\n",
    "plt.xlabel('Number of car servicings')\n",
    "plt.ylabel('Cities')\n",
    "plt.title('Top ten cities with most car servicings')\n",
    "sns.barplot(y=final_invoice_subset['City'].value_counts()[:10].index,\n",
    "            x=final_invoice_subset['City'].value_counts()[:10].values)"
   ]
  },
  {
   "cell_type": "code",
   "execution_count": 727,
   "metadata": {},
   "outputs": [
    {
     "data": {
      "text/plain": [
       "<matplotlib.axes._subplots.AxesSubplot at 0x1a14c7bd3c8>"
      ]
     },
     "execution_count": 727,
     "metadata": {},
     "output_type": "execute_result"
    },
    {
     "data": {
      "image/png": "[encoded data removed]",
      "text/plain": [
       "<Figure size 576x576 with 1 Axes>"
      ]
     },
     "metadata": {
      "needs_background": "light"
     },
     "output_type": "display_data"
    }
   ],
   "source": [
    "### State with most number of car servicing\n",
    "\n",
    "plt.figure(figsize=(8,8),edgecolor='b')\n",
    "plt.xlabel('Number of car servicings')\n",
    "plt.ylabel('State')\n",
    "plt.title('Top ten states with most car servicings')\n",
    "sns.barplot(y=final_invoice_subset['State'].value_counts().index,\n",
    "            x=final_invoice_subset['State'].value_counts().values)"
   ]
  },
  {
   "cell_type": "code",
   "execution_count": 739,
   "metadata": {},
   "outputs": [
    {
     "data": {
      "text/plain": [
       "<matplotlib.axes._subplots.AxesSubplot at 0x1a1580d4898>"
      ]
     },
     "execution_count": 739,
     "metadata": {},
     "output_type": "execute_result"
    },
    {
     "data": {
      "image/png": "[encoded data removed]",
      "text/plain": [
       "<Figure size 576x432 with 1 Axes>"
      ]
     },
     "metadata": {
      "needs_background": "light"
     },
     "output_type": "display_data"
    }
   ],
   "source": [
    "### State with least number of car servicing\n",
    "\n",
    "plt.figure(figsize=(8,6),edgecolor='b')\n",
    "plt.xlabel('Number of car servicings')\n",
    "plt.ylabel('State')\n",
    "plt.title('Top ten states with least car servicings')\n",
    "sns.barplot(y=final_invoice_subset['State'].value_counts()[:-11:-1].index,\n",
    "            x=final_invoice_subset['State'].value_counts()[:-11:-1].values)"
   ]
  },
  {
   "cell_type": "code",
   "execution_count": 371,
   "metadata": {},
   "outputs": [
    {
     "data": {
      "text/plain": [
       "<matplotlib.axes._subplots.AxesSubplot at 0x1a0bdaf3a20>"
      ]
     },
     "execution_count": 371,
     "metadata": {},
     "output_type": "execute_result"
    },
    {
     "data": {
      "image/png": "[encoded data removed]",
      "text/plain": [
       "<Figure size 432x288 with 1 Axes>"
      ]
     },
     "metadata": {
      "needs_background": "light"
     },
     "output_type": "display_data"
    }
   ],
   "source": [
    "### Most popular make in the servicing centres overall\n",
    "\n",
    "plt.xticks(rotation='vertical')\n",
    "sns.barplot(y=final_invoice_subset['Make'].value_counts()[:20].index,\n",
    "            x=final_invoice_subset['Make'].value_counts()[:20].values)"
   ]
  },
  {
   "cell_type": "code",
   "execution_count": 372,
   "metadata": {},
   "outputs": [
    {
     "data": {
      "text/plain": [
       "<matplotlib.axes._subplots.AxesSubplot at 0x1a0bdbbe4e0>"
      ]
     },
     "execution_count": 372,
     "metadata": {},
     "output_type": "execute_result"
    },
    {
     "data": {
      "image/png": "[encoded data removed]",
      "text/plain": [
       "<Figure size 432x288 with 1 Axes>"
      ]
     },
     "metadata": {
      "needs_background": "light"
     },
     "output_type": "display_data"
    }
   ],
   "source": [
    "### Most popular model in the servicing centres overall\n",
    "\n",
    "plt.xticks(rotation='vertical')\n",
    "sns.barplot(y=final_invoice_subset['Model'].value_counts()[:20].index,\n",
    "            x=final_invoice_subset['Model'].value_counts()[:20].values)"
   ]
  },
  {
   "cell_type": "code",
   "execution_count": 373,
   "metadata": {},
   "outputs": [],
   "source": [
    "make_order_group = final_invoice_subset.groupby(['Make','Order Type']).size().sort_values(ascending=False)[:30]"
   ]
  },
  {
   "cell_type": "code",
   "execution_count": 374,
   "metadata": {},
   "outputs": [
    {
     "data": {
      "text/plain": [
       "Make                  Order Type       \n",
       "MARUTI SUZUKI         Running Repairs      71264\n",
       "MAHINDRA &  MAHINDRA  Running Repairs      39942\n",
       "HYUNDAI               Running Repairs      39218\n",
       "MARUTI SUZUKI         Paid Service         35118\n",
       "TATA MOTORS           Running Repairs      30049\n",
       "MAHINDRA &  MAHINDRA  Paid Service         21088\n",
       "HYUNDAI               Paid Service         19446\n",
       "GENERAL MOTORS        Running Repairs      13736\n",
       "TATA MOTORS           Paid Service         12941\n",
       "FORD                  Running Repairs      10765\n",
       "MARUTI SUZUKI         Accidental           10448\n",
       "TOYOTA                Running Repairs       9385\n",
       "HONDA                 Running Repairs       7026\n",
       "HYUNDAI               Accidental            6995\n",
       "GENERAL MOTORS        Paid Service          6705\n",
       "MAHINDRA &  MAHINDRA  Accidental            5677\n",
       "FORD                  Paid Service          4776\n",
       "MARUTI SUZUKI         SMC Redemption        4637\n",
       "                      Mechanical            4005\n",
       "HYUNDAI               SMC Redemption        3842\n",
       "TATA MOTORS           Accidental            3720\n",
       "TOYOTA                Paid Service          3566\n",
       "FIAT                  Running Repairs       3390\n",
       "HONDA                 Paid Service          3358\n",
       "SKODA                 Running Repairs       3215\n",
       "VOLKSWAGEN            Running Repairs       3075\n",
       "MARUTI SUZUKI         SMC Value Package     2791\n",
       "MAHINDRA &  MAHINDRA  Mechanical            2573\n",
       "TOYOTA                Accidental            2345\n",
       "HYUNDAI               SMC Value Package     2341\n",
       "dtype: int64"
      ]
     },
     "execution_count": 374,
     "metadata": {},
     "output_type": "execute_result"
    }
   ],
   "source": [
    "make_order_group"
   ]
  },
  {
   "cell_type": "code",
   "execution_count": 375,
   "metadata": {},
   "outputs": [
    {
     "data": {
      "text/plain": [
       "<matplotlib.axes._subplots.AxesSubplot at 0x1a0bdd8d048>"
      ]
     },
     "execution_count": 375,
     "metadata": {},
     "output_type": "execute_result"
    },
    {
     "data": {
      "image/png": "[encoded data removed]",
      "text/plain": [
       "<Figure size 432x288 with 1 Axes>"
      ]
     },
     "metadata": {
      "needs_background": "light"
     },
     "output_type": "display_data"
    }
   ],
   "source": [
    "plt.xticks(rotation='vertical')\n",
    "sns.barplot(x=make_order_group.values,\n",
    "            y=make_order_group.index)"
   ]
  },
  {
   "cell_type": "code",
   "execution_count": 378,
   "metadata": {},
   "outputs": [
    {
     "data": {
      "text/html": [
       "<div>\n",
       "<style scoped>\n",
       "    .dataframe tbody tr th:only-of-type {\n",
       "        vertical-align: middle;\n",
       "    }\n",
       "\n",
       "    .dataframe tbody tr th {\n",
       "        vertical-align: top;\n",
       "    }\n",
       "\n",
       "    .dataframe thead th {\n",
       "        text-align: right;\n",
       "    }\n",
       "</style>\n",
       "<table border=\"1\" class=\"dataframe\">\n",
       "  <thead>\n",
       "    <tr style=\"text-align: right;\">\n",
       "      <th></th>\n",
       "      <th>Cust Type</th>\n",
       "      <th>Customer No.</th>\n",
       "      <th>District</th>\n",
       "      <th>Make</th>\n",
       "      <th>Model</th>\n",
       "      <th>Order Type</th>\n",
       "      <th>Total Amount</th>\n",
       "      <th>City</th>\n",
       "      <th>Year</th>\n",
       "      <th>State</th>\n",
       "    </tr>\n",
       "  </thead>\n",
       "  <tbody>\n",
       "    <tr>\n",
       "      <th>0</th>\n",
       "      <td>Retail</td>\n",
       "      <td>67849</td>\n",
       "      <td>Maharashtra</td>\n",
       "      <td>GENERAL MOTORS</td>\n",
       "      <td>SPARK</td>\n",
       "      <td>Paid Service</td>\n",
       "      <td>4051</td>\n",
       "      <td>THANE</td>\n",
       "      <td>2014</td>\n",
       "      <td>Maharashtra</td>\n",
       "    </tr>\n",
       "    <tr>\n",
       "      <th>1</th>\n",
       "      <td>Retail</td>\n",
       "      <td>84419</td>\n",
       "      <td>Maharashtra</td>\n",
       "      <td>TATA MOTORS</td>\n",
       "      <td>INDICA</td>\n",
       "      <td>SMC Value Package</td>\n",
       "      <td>1001</td>\n",
       "      <td>THANE</td>\n",
       "      <td>2015</td>\n",
       "      <td>Maharashtra</td>\n",
       "    </tr>\n",
       "    <tr>\n",
       "      <th>2</th>\n",
       "      <td>Retail</td>\n",
       "      <td>81055</td>\n",
       "      <td>Maharashtra</td>\n",
       "      <td>MARUTI SUZUKI</td>\n",
       "      <td>ZEN</td>\n",
       "      <td>Running Repairs</td>\n",
       "      <td>233</td>\n",
       "      <td>THANE</td>\n",
       "      <td>2015</td>\n",
       "      <td>Maharashtra</td>\n",
       "    </tr>\n",
       "    <tr>\n",
       "      <th>3</th>\n",
       "      <td>Retail</td>\n",
       "      <td>84419</td>\n",
       "      <td>Maharashtra</td>\n",
       "      <td>TATA MOTORS</td>\n",
       "      <td>INDICA</td>\n",
       "      <td>SMC Redemption</td>\n",
       "      <td>0</td>\n",
       "      <td>THANE</td>\n",
       "      <td>2015</td>\n",
       "      <td>Maharashtra</td>\n",
       "    </tr>\n",
       "    <tr>\n",
       "      <th>4</th>\n",
       "      <td>Retail</td>\n",
       "      <td>18980</td>\n",
       "      <td>Maharashtra</td>\n",
       "      <td>HYUNDAI</td>\n",
       "      <td>SANTRO XING</td>\n",
       "      <td>Paid Service</td>\n",
       "      <td>2747</td>\n",
       "      <td>THANE</td>\n",
       "      <td>2015</td>\n",
       "      <td>Maharashtra</td>\n",
       "    </tr>\n",
       "  </tbody>\n",
       "</table>\n",
       "</div>"
      ],
      "text/plain": [
       "  Cust Type Customer No.     District            Make        Model  \\\n",
       "0    Retail        67849  Maharashtra  GENERAL MOTORS        SPARK   \n",
       "1    Retail        84419  Maharashtra     TATA MOTORS       INDICA   \n",
       "2    Retail        81055  Maharashtra   MARUTI SUZUKI          ZEN   \n",
       "3    Retail        84419  Maharashtra     TATA MOTORS       INDICA   \n",
       "4    Retail        18980  Maharashtra         HYUNDAI  SANTRO XING   \n",
       "\n",
       "          Order Type  Total Amount   City  Year        State  \n",
       "0       Paid Service          4051  THANE  2014  Maharashtra  \n",
       "1  SMC Value Package          1001  THANE  2015  Maharashtra  \n",
       "2    Running Repairs           233  THANE  2015  Maharashtra  \n",
       "3     SMC Redemption             0  THANE  2015  Maharashtra  \n",
       "4       Paid Service          2747  THANE  2015  Maharashtra  "
      ]
     },
     "execution_count": 378,
     "metadata": {},
     "output_type": "execute_result"
    }
   ],
   "source": [
    "final_invoice_subset.head()"
   ]
  },
  {
   "cell_type": "code",
   "execution_count": 427,
   "metadata": {},
   "outputs": [],
   "source": [
    "amount_state = final_invoice_subset.groupby(['State']).sum().sort_values(by='Total Amount',ascending=False)[:10]"
   ]
  },
  {
   "cell_type": "code",
   "execution_count": 428,
   "metadata": {},
   "outputs": [
    {
     "data": {
      "text/html": [
       "<div>\n",
       "<style scoped>\n",
       "    .dataframe tbody tr th:only-of-type {\n",
       "        vertical-align: middle;\n",
       "    }\n",
       "\n",
       "    .dataframe tbody tr th {\n",
       "        vertical-align: top;\n",
       "    }\n",
       "\n",
       "    .dataframe thead th {\n",
       "        text-align: right;\n",
       "    }\n",
       "</style>\n",
       "<table border=\"1\" class=\"dataframe\">\n",
       "  <thead>\n",
       "    <tr style=\"text-align: right;\">\n",
       "      <th></th>\n",
       "      <th>Total Amount</th>\n",
       "    </tr>\n",
       "    <tr>\n",
       "      <th>State</th>\n",
       "      <th></th>\n",
       "    </tr>\n",
       "  </thead>\n",
       "  <tbody>\n",
       "    <tr>\n",
       "      <th>Tamil Nadu</th>\n",
       "      <td>525269058</td>\n",
       "    </tr>\n",
       "    <tr>\n",
       "      <th>Maharashtra</th>\n",
       "      <td>421710418</td>\n",
       "    </tr>\n",
       "    <tr>\n",
       "      <th>Karnataka</th>\n",
       "      <td>149571501</td>\n",
       "    </tr>\n",
       "    <tr>\n",
       "      <th>Telangana</th>\n",
       "      <td>139658743</td>\n",
       "    </tr>\n",
       "    <tr>\n",
       "      <th>Uttar Pradesh</th>\n",
       "      <td>95612157</td>\n",
       "    </tr>\n",
       "    <tr>\n",
       "      <th>Punjab</th>\n",
       "      <td>92661227</td>\n",
       "    </tr>\n",
       "    <tr>\n",
       "      <th>Gujarat</th>\n",
       "      <td>76421114</td>\n",
       "    </tr>\n",
       "    <tr>\n",
       "      <th>Andhra Pradesh</th>\n",
       "      <td>73294619</td>\n",
       "    </tr>\n",
       "    <tr>\n",
       "      <th>Madhya Pradesh</th>\n",
       "      <td>56732603</td>\n",
       "    </tr>\n",
       "    <tr>\n",
       "      <th>Haryana</th>\n",
       "      <td>56468734</td>\n",
       "    </tr>\n",
       "  </tbody>\n",
       "</table>\n",
       "</div>"
      ],
      "text/plain": [
       "                Total Amount\n",
       "State                       \n",
       "Tamil Nadu         525269058\n",
       "Maharashtra        421710418\n",
       "Karnataka          149571501\n",
       "Telangana          139658743\n",
       "Uttar Pradesh       95612157\n",
       "Punjab              92661227\n",
       "Gujarat             76421114\n",
       "Andhra Pradesh      73294619\n",
       "Madhya Pradesh      56732603\n",
       "Haryana             56468734"
      ]
     },
     "execution_count": 428,
     "metadata": {},
     "output_type": "execute_result"
    }
   ],
   "source": [
    "amount_state"
   ]
  },
  {
   "cell_type": "code",
   "execution_count": 383,
   "metadata": {},
   "outputs": [],
   "source": [
    "def currency(x, pos):\n",
    "    'The two args are the value and tick position'    \n",
    "    return '₹{:1.0f}Cr'.format(x*1e-8)"
   ]
  },
  {
   "cell_type": "code",
   "execution_count": 384,
   "metadata": {},
   "outputs": [
    {
     "data": {
      "text/plain": [
       "[Text(0, 0.5, 'State'),\n",
       " Text(0.5, 0, 'Total Revenue'),\n",
       " Text(0.5, 1.0, 'Top ten states with most revenue generation')]"
      ]
     },
     "execution_count": 384,
     "metadata": {},
     "output_type": "execute_result"
    },
    {
     "data": {
      "image/png": "[encoded data removed]",
      "text/plain": [
       "<Figure size 432x288 with 1 Axes>"
      ]
     },
     "metadata": {
      "needs_background": "light"
     },
     "output_type": "display_data"
    }
   ],
   "source": [
    "### Plotting the total amount received per state\n",
    "from matplotlib.ticker import FuncFormatter\n",
    "\n",
    "fig, ax = plt.subplots()\n",
    "formatter = FuncFormatter(currency)\n",
    "ax.xaxis.set_major_formatter(formatter)\n",
    "\n",
    "sns.barplot(x=amount_state['Total Amount'],\n",
    "            y=amount_state.index)\n",
    "ax.set(title='Top ten states with most revenue generation', xlabel='Total Revenue', ylabel='State')\n",
    "\n"
   ]
  },
  {
   "cell_type": "code",
   "execution_count": 743,
   "metadata": {},
   "outputs": [],
   "source": [
    "amount_state_bottom_10 = final_invoice_subset.groupby(['State']).sum().sort_values(by='Total Amount',ascending=False)[:-11:-1]"
   ]
  },
  {
   "cell_type": "code",
   "execution_count": 747,
   "metadata": {},
   "outputs": [
    {
     "data": {
      "text/plain": [
       "[Text(0, 0.5, 'State'),\n",
       " Text(0.5, 0, 'Total Revenue'),\n",
       " Text(0.5, 1.0, 'Top ten states with least revenue')]"
      ]
     },
     "execution_count": 747,
     "metadata": {},
     "output_type": "execute_result"
    },
    {
     "data": {
      "image/png": "[encoded data removed]",
      "text/plain": [
       "<Figure size 576x432 with 1 Axes>"
      ]
     },
     "metadata": {
      "needs_background": "light"
     },
     "output_type": "display_data"
    }
   ],
   "source": [
    "def currency_m(x, pos):\n",
    "    'The two args are the value and tick position'    \n",
    "    return '₹{:1.0f}M'.format(x*1e-6)\n",
    "\n",
    "### Plotting the total amount received per state\n",
    "from matplotlib.ticker import FuncFormatter\n",
    "\n",
    "fig, ax = plt.subplots(figsize=(8,6))\n",
    "formatter = FuncFormatter(currency)\n",
    "ax.xaxis.set_major_formatter(formatter)\n",
    "\n",
    "sns.barplot(x=amount_state_bottom_10['Total Amount'],\n",
    "            y=amount_state_bottom_10.index)\n",
    "ax.set(title='Top ten states with least revenue', xlabel='Total Revenue', ylabel='State')"
   ]
  },
  {
   "cell_type": "code",
   "execution_count": 385,
   "metadata": {},
   "outputs": [
    {
     "data": {
      "text/html": [
       "<div>\n",
       "<style scoped>\n",
       "    .dataframe tbody tr th:only-of-type {\n",
       "        vertical-align: middle;\n",
       "    }\n",
       "\n",
       "    .dataframe tbody tr th {\n",
       "        vertical-align: top;\n",
       "    }\n",
       "\n",
       "    .dataframe thead th {\n",
       "        text-align: right;\n",
       "    }\n",
       "</style>\n",
       "<table border=\"1\" class=\"dataframe\">\n",
       "  <thead>\n",
       "    <tr style=\"text-align: right;\">\n",
       "      <th></th>\n",
       "      <th>Total Amount</th>\n",
       "    </tr>\n",
       "    <tr>\n",
       "      <th>State</th>\n",
       "      <th></th>\n",
       "    </tr>\n",
       "  </thead>\n",
       "  <tbody>\n",
       "    <tr>\n",
       "      <th>Arunachal Pradesh</th>\n",
       "      <td>480</td>\n",
       "    </tr>\n",
       "    <tr>\n",
       "      <th>Lakshadweep</th>\n",
       "      <td>10147</td>\n",
       "    </tr>\n",
       "    <tr>\n",
       "      <th>Jammu and Kashmir</th>\n",
       "      <td>17333</td>\n",
       "    </tr>\n",
       "    <tr>\n",
       "      <th>Assam</th>\n",
       "      <td>133033</td>\n",
       "    </tr>\n",
       "    <tr>\n",
       "      <th>Goa</th>\n",
       "      <td>459177</td>\n",
       "    </tr>\n",
       "    <tr>\n",
       "      <th>Jharkhand</th>\n",
       "      <td>1151062</td>\n",
       "    </tr>\n",
       "    <tr>\n",
       "      <th>Chattisgarh</th>\n",
       "      <td>1742868</td>\n",
       "    </tr>\n",
       "    <tr>\n",
       "      <th>Daman and Diu</th>\n",
       "      <td>2780352</td>\n",
       "    </tr>\n",
       "    <tr>\n",
       "      <th>Dadra and Nagar Hav.</th>\n",
       "      <td>5164453</td>\n",
       "    </tr>\n",
       "    <tr>\n",
       "      <th>Odisha</th>\n",
       "      <td>5272573</td>\n",
       "    </tr>\n",
       "    <tr>\n",
       "      <th>West Bengal</th>\n",
       "      <td>5341826</td>\n",
       "    </tr>\n",
       "    <tr>\n",
       "      <th>Pondicherry</th>\n",
       "      <td>6109764</td>\n",
       "    </tr>\n",
       "    <tr>\n",
       "      <th>Himachal Pradesh</th>\n",
       "      <td>7809312</td>\n",
       "    </tr>\n",
       "    <tr>\n",
       "      <th>Uttarakhand</th>\n",
       "      <td>8298511</td>\n",
       "    </tr>\n",
       "    <tr>\n",
       "      <th>Bihar</th>\n",
       "      <td>13299637</td>\n",
       "    </tr>\n",
       "    <tr>\n",
       "      <th>Kerala</th>\n",
       "      <td>25336319</td>\n",
       "    </tr>\n",
       "    <tr>\n",
       "      <th>Delhi</th>\n",
       "      <td>31582535</td>\n",
       "    </tr>\n",
       "    <tr>\n",
       "      <th>Rajasthan</th>\n",
       "      <td>45828851</td>\n",
       "    </tr>\n",
       "    <tr>\n",
       "      <th>Haryana</th>\n",
       "      <td>56468734</td>\n",
       "    </tr>\n",
       "    <tr>\n",
       "      <th>Madhya Pradesh</th>\n",
       "      <td>56732603</td>\n",
       "    </tr>\n",
       "    <tr>\n",
       "      <th>Andhra Pradesh</th>\n",
       "      <td>73294619</td>\n",
       "    </tr>\n",
       "    <tr>\n",
       "      <th>Gujarat</th>\n",
       "      <td>76421114</td>\n",
       "    </tr>\n",
       "    <tr>\n",
       "      <th>Punjab</th>\n",
       "      <td>92661227</td>\n",
       "    </tr>\n",
       "    <tr>\n",
       "      <th>Uttar Pradesh</th>\n",
       "      <td>95612157</td>\n",
       "    </tr>\n",
       "    <tr>\n",
       "      <th>Telangana</th>\n",
       "      <td>139658743</td>\n",
       "    </tr>\n",
       "    <tr>\n",
       "      <th>Karnataka</th>\n",
       "      <td>149571501</td>\n",
       "    </tr>\n",
       "    <tr>\n",
       "      <th>Maharashtra</th>\n",
       "      <td>421710418</td>\n",
       "    </tr>\n",
       "    <tr>\n",
       "      <th>Tamil Nadu</th>\n",
       "      <td>525269058</td>\n",
       "    </tr>\n",
       "  </tbody>\n",
       "</table>\n",
       "</div>"
      ],
      "text/plain": [
       "                      Total Amount\n",
       "State                             \n",
       "Arunachal Pradesh              480\n",
       "Lakshadweep                  10147\n",
       "Jammu and Kashmir            17333\n",
       "Assam                       133033\n",
       "Goa                         459177\n",
       "Jharkhand                  1151062\n",
       "Chattisgarh                1742868\n",
       "Daman and Diu              2780352\n",
       "Dadra and Nagar Hav.       5164453\n",
       "Odisha                     5272573\n",
       "West Bengal                5341826\n",
       "Pondicherry                6109764\n",
       "Himachal Pradesh           7809312\n",
       "Uttarakhand                8298511\n",
       "Bihar                     13299637\n",
       "Kerala                    25336319\n",
       "Delhi                     31582535\n",
       "Rajasthan                 45828851\n",
       "Haryana                   56468734\n",
       "Madhya Pradesh            56732603\n",
       "Andhra Pradesh            73294619\n",
       "Gujarat                   76421114\n",
       "Punjab                    92661227\n",
       "Uttar Pradesh             95612157\n",
       "Telangana                139658743\n",
       "Karnataka                149571501\n",
       "Maharashtra              421710418\n",
       "Tamil Nadu               525269058"
      ]
     },
     "execution_count": 385,
     "metadata": {},
     "output_type": "execute_result"
    }
   ],
   "source": [
    "final_invoice_subset.groupby(['State']).sum().sort_values(by='Total Amount',ascending=True)"
   ]
  },
  {
   "cell_type": "code",
   "execution_count": 328,
   "metadata": {},
   "outputs": [],
   "source": [
    "final_invoice['Year'] = pd.to_datetime(final_invoice['JobCard Date']).dt.year"
   ]
  },
  {
   "cell_type": "code",
   "execution_count": 331,
   "metadata": {},
   "outputs": [],
   "source": [
    "final_invoice['Year'] = final_invoice['Year'].astype(str)"
   ]
  },
  {
   "cell_type": "code",
   "execution_count": 386,
   "metadata": {},
   "outputs": [],
   "source": [
    "invoice_subset2 = final_invoice.drop(['Job Card No','Pin code'],axis=1)"
   ]
  },
  {
   "cell_type": "code",
   "execution_count": 387,
   "metadata": {},
   "outputs": [],
   "source": [
    "invoice_subset2['Total Amt Wtd Tax.'] = invoice_subset2['Total Amt Wtd Tax.'].astype(int)"
   ]
  },
  {
   "cell_type": "code",
   "execution_count": 943,
   "metadata": {},
   "outputs": [
    {
     "data": {
      "text/plain": [
       "Make         Order Type       \n",
       "AUDI         Accidental           26.562500\n",
       "             Mechanical            3.125000\n",
       "             Paid Service         13.020833\n",
       "             Running Repairs      57.291667\n",
       "BMW          Accidental           23.318386\n",
       "             Mechanical            1.793722\n",
       "             Paid Service         11.659193\n",
       "             Running Repairs      63.228700\n",
       "DAEWOO       Accidental            3.363914\n",
       "             Mechanical            3.058104\n",
       "             Paid Service         23.853211\n",
       "             Repeat Order          1.223242\n",
       "             Running Repairs      66.666667\n",
       "             SMC Redemption        1.223242\n",
       "             SMC Value Package     0.611621\n",
       "FIAT         Accidental            9.798016\n",
       "             Mechanical            3.171510\n",
       "             Paid Service         23.883770\n",
       "             Repeat Order          1.098512\n",
       "             Running Repairs      60.063785\n",
       "             SMC Redemption        1.187101\n",
       "             SMC Value Package     0.797307\n",
       "FORCE        Accidental            8.717949\n",
       "             Mechanical            5.641026\n",
       "             Paid Service         20.512821\n",
       "             Running Repairs      65.128205\n",
       "FORD         Accidental           10.465302\n",
       "             Mechanical            3.211912\n",
       "             Paid Service         25.397501\n",
       "             Repeat Order          0.547727\n",
       "                                    ...    \n",
       "SONALIKA     Mechanical            9.210526\n",
       "             Paid Service         25.000000\n",
       "             Running Repairs      59.210526\n",
       "TATA MOTORS  Accidental            7.363275\n",
       "             Mechanical            3.242216\n",
       "             Paid Service         25.615091\n",
       "             Repeat Order          0.554225\n",
       "             Running Repairs      59.478237\n",
       "             SMC Redemption        2.288157\n",
       "             SMC Value Package     1.452861\n",
       "             WBW Order             0.001979\n",
       "             Workshop Damage       0.003959\n",
       "TOYOTA       Accidental           14.170040\n",
       "             Mechanical            3.528914\n",
       "             Paid Service         21.548130\n",
       "             Repeat Order          0.374645\n",
       "             Running Repairs      56.710375\n",
       "             SMC Redemption        2.223699\n",
       "             SMC Value Package     1.432111\n",
       "             WBW Order             0.012085\n",
       "VOLKSWAGEN   Accidental           15.868972\n",
       "             Mechanical            3.730664\n",
       "             Paid Service         22.456779\n",
       "             Repeat Order          0.327571\n",
       "             Running Repairs      55.959964\n",
       "             SMC Redemption        0.982712\n",
       "             SMC Value Package     0.673339\n",
       "VOLVO        Accidental            5.882353\n",
       "             Paid Service         17.647059\n",
       "             Running Repairs      76.470588\n",
       "Length: 161, dtype: float64"
      ]
     },
     "execution_count": 943,
     "metadata": {},
     "output_type": "execute_result"
    }
   ],
   "source": [
    "# invoice_new[invoice_new['Order Type'] == 'Accidental'].groupby(['Make']).size()/invoice_new\n",
    "\n",
    "(invoice_new.groupby(['Make','Order Type']).size()/invoice_new[['Order Type','Make']].groupby(['Make']).size()*100)"
   ]
  },
  {
   "cell_type": "code",
   "execution_count": 945,
   "metadata": {},
   "outputs": [
    {
     "data": {
      "text/plain": [
       "State                 Order Type       \n",
       "Andhra Pradesh        Accidental             9.399544\n",
       "                      Mechanical             3.274639\n",
       "                      Paid Service          19.109450\n",
       "                      Repeat Order           0.177350\n",
       "                      Running Repairs       64.929060\n",
       "                      SMC Redemption         1.919179\n",
       "                      SMC Value Package      1.190778\n",
       "Arunachal Pradesh     Running Repairs      100.000000\n",
       "Assam                 Accidental             7.692308\n",
       "                      Paid Service          82.417582\n",
       "                      Running Repairs        9.890110\n",
       "Bihar                 Accidental             5.702364\n",
       "                      Mechanical             3.372740\n",
       "                      Paid Service          35.674548\n",
       "                      Repeat Order           0.034771\n",
       "                      Running Repairs       55.076495\n",
       "                      SMC Redemption         0.034771\n",
       "                      SMC Value Package      0.104312\n",
       "Chattisgarh           Accidental            11.960133\n",
       "                      Paid Service          61.794020\n",
       "                      Running Repairs       26.245847\n",
       "Dadra and Nagar Hav.  Accidental            12.347052\n",
       "                      Paid Service           9.677419\n",
       "                      Repeat Order           3.559511\n",
       "                      Running Repairs       69.076752\n",
       "                      SMC Redemption         3.225806\n",
       "                      SMC Value Package      2.113459\n",
       "Daman and Diu         Accidental            15.401302\n",
       "                      Paid Service           7.809111\n",
       "                      Repeat Order           2.169197\n",
       "                                              ...    \n",
       "Telangana             Accidental            11.106238\n",
       "                      Mechanical             2.342579\n",
       "                      Paid Service          27.942843\n",
       "                      Repeat Order           0.310638\n",
       "                      Running Repairs       53.554069\n",
       "                      SMC Redemption         2.846910\n",
       "                      SMC Value Package      1.893067\n",
       "                      Workshop Damage        0.003655\n",
       "Uttar Pradesh         Accidental             6.363988\n",
       "                      Mechanical             0.878518\n",
       "                      Paid Service          24.689883\n",
       "                      Repeat Order           1.574305\n",
       "                      Running Repairs       53.048459\n",
       "                      SMC Redemption         8.620023\n",
       "                      SMC Value Package      4.821309\n",
       "                      WBW Order              0.003514\n",
       "Uttarakhand           Accidental             4.062751\n",
       "                      Mechanical             3.821400\n",
       "                      Paid Service          37.127916\n",
       "                      Repeat Order           0.201126\n",
       "                      Running Repairs       54.223652\n",
       "                      SMC Redemption         0.281577\n",
       "                      SMC Value Package      0.201126\n",
       "                      WBW Order              0.080451\n",
       "West Bengal           Accidental             5.644546\n",
       "                      Mechanical             1.525553\n",
       "                      Paid Service          14.492754\n",
       "                      Running Repairs       78.108314\n",
       "                      SMC Redemption         0.152555\n",
       "                      SMC Value Package      0.076278\n",
       "Length: 175, dtype: float64"
      ]
     },
     "execution_count": 945,
     "metadata": {},
     "output_type": "execute_result"
    }
   ],
   "source": [
    "(invoice_new.groupby(['State','Order Type']).size()/invoice_new[['Order Type','State']].groupby(['State']).size()*100)"
   ]
  },
  {
   "cell_type": "code",
   "execution_count": 954,
   "metadata": {},
   "outputs": [
    {
     "data": {
      "text/plain": [
       "State  Order Type         Year\n",
       "Delhi  Accidental         2012     0.039131\n",
       "                          2013     0.763060\n",
       "                          2014     3.384856\n",
       "                          2015    11.211113\n",
       "                          2016     2.543534\n",
       "       Mechanical         2016     0.528272\n",
       "       Paid Service       2013     0.743494\n",
       "                          2014     7.297985\n",
       "                          2015     5.634905\n",
       "                          2016     2.484837\n",
       "       Repeat Order       2013     0.195656\n",
       "                          2014     1.017413\n",
       "                          2015     0.254353\n",
       "                          2016     0.019566\n",
       "       Running Repairs    2012     0.019566\n",
       "                          2013     5.263158\n",
       "                          2014    21.522207\n",
       "                          2015    12.972021\n",
       "                          2016     6.143612\n",
       "       SMC Redemption     2013     0.489141\n",
       "                          2014     5.439249\n",
       "                          2015     4.539229\n",
       "                          2016     0.684797\n",
       "       SMC Value Package  2013     0.547838\n",
       "                          2014     4.069654\n",
       "                          2015     1.956564\n",
       "                          2016     0.215222\n",
       "       Workshop Damage    2015     0.019566\n",
       "dtype: float64"
      ]
     },
     "execution_count": 954,
     "metadata": {},
     "output_type": "execute_result"
    }
   ],
   "source": [
    "invoice_new[invoice_new['State'] == 'Delhi'].groupby(['State','Order Type','Year']).size()/invoice_new[['Order Type','State','Year']].groupby(['State']).size()*100"
   ]
  },
  {
   "cell_type": "code",
   "execution_count": 940,
   "metadata": {},
   "outputs": [
    {
     "data": {
      "text/plain": [
       "Make\n",
       "AUDI                    0.520833\n",
       "BMW                     1.793722\n",
       "DAEWOO                  0.305810\n",
       "FIAT                    0.903614\n",
       "FORCE                        NaN\n",
       "FORD                    0.521138\n",
       "GENERAL MOTORS          1.163302\n",
       "HINDUSTAN MOTORS             NaN\n",
       "HONDA                   1.657007\n",
       "HYUNDAI                 1.902757\n",
       "JEEP                         NaN\n",
       "LAND ROVER              5.882353\n",
       "MAHINDRA &  MAHINDRA    0.984132\n",
       "MARUTI SUZUKI           1.354921\n",
       "MERCEDES BENZ           1.363636\n",
       "MITSUBISHI MOTORS       0.552486\n",
       "MORRIS                       NaN\n",
       "NISSAN                  0.616389\n",
       "PORCHE                       NaN\n",
       "PREMIER AUTOMOBILES          NaN\n",
       "RENAULT                 0.509879\n",
       "SAN MOTORS                   NaN\n",
       "SKODA                   0.630744\n",
       "SONALIKA                     NaN\n",
       "TATA MOTORS             0.506720\n",
       "TOYOTA                  1.232703\n",
       "VOLKSWAGEN              0.400364\n",
       "VOLVO                   5.882353\n",
       "dtype: float64"
      ]
     },
     "execution_count": 940,
     "metadata": {},
     "output_type": "execute_result"
    }
   ],
   "source": [
    "invoice_new[invoice_new['State'] == 'Delhi'].groupby(['Make']).size()/invoice_new.groupby(['Make']).size()*100"
   ]
  },
  {
   "cell_type": "code",
   "execution_count": 955,
   "metadata": {},
   "outputs": [
    {
     "data": {
      "text/plain": [
       "Month  Order Type       \n",
       "Apr    Accidental            9.093097\n",
       "       Mechanical           41.224244\n",
       "       Paid Service         14.742066\n",
       "       Repeat Order          0.523387\n",
       "       Running Repairs      29.526245\n",
       "       SMC Redemption        2.869604\n",
       "       SMC Value Package     2.021357\n",
       "Aug    Accidental            8.574714\n",
       "       Paid Service         29.494080\n",
       "       Repeat Order          0.545552\n",
       "       Running Repairs      57.390645\n",
       "       SMC Redemption        2.441530\n",
       "       SMC Value Package     1.546140\n",
       "       WBW Order             0.002446\n",
       "       Workshop Damage       0.004893\n",
       "Dec    Accidental            9.015665\n",
       "       Paid Service         23.818319\n",
       "       Repeat Order          0.998700\n",
       "       Running Repairs      60.465832\n",
       "       SMC Redemption        3.700664\n",
       "       SMC Value Package     1.997401\n",
       "       Workshop Damage       0.003420\n",
       "Feb    Accidental            8.817268\n",
       "       Paid Service         24.840326\n",
       "       Repeat Order          0.628869\n",
       "       Running Repairs      58.668239\n",
       "       SMC Redemption        4.048344\n",
       "       SMC Value Package     2.993679\n",
       "       Workshop Damage       0.003275\n",
       "Jan    Accidental            9.098847\n",
       "                              ...    \n",
       "May    Accidental            9.232584\n",
       "       Paid Service         30.789914\n",
       "       Repeat Order          0.526792\n",
       "       Running Repairs      54.160836\n",
       "       SMC Redemption        3.215628\n",
       "       SMC Value Package     2.071501\n",
       "       Workshop Damage       0.002744\n",
       "Nov    Accidental            9.728450\n",
       "       Paid Service         24.240159\n",
       "       Repeat Order          0.905165\n",
       "       Running Repairs      58.009467\n",
       "       SMC Redemption        4.542435\n",
       "       SMC Value Package     2.566019\n",
       "       Workshop Damage       0.008304\n",
       "Oct    Accidental            8.846211\n",
       "       Paid Service         29.667660\n",
       "       Repeat Order          0.414105\n",
       "       Running Repairs      57.438043\n",
       "       SMC Redemption        2.364201\n",
       "       SMC Value Package     1.252879\n",
       "       WBW Order             0.012677\n",
       "       Workshop Damage       0.004226\n",
       "Sep    Accidental            8.866817\n",
       "       Paid Service         29.776524\n",
       "       Repeat Order          0.471783\n",
       "       Running Repairs      56.455982\n",
       "       SMC Redemption        2.717833\n",
       "       SMC Value Package     1.695260\n",
       "       WBW Order             0.013544\n",
       "       Workshop Damage       0.002257\n",
       "Length: 86, dtype: float64"
      ]
     },
     "execution_count": 955,
     "metadata": {},
     "output_type": "execute_result"
    }
   ],
   "source": [
    "(invoice_new.groupby(['Month','Order Type']).size()/invoice_new[['Order Type','Month']].groupby(['Month']).size()*100)"
   ]
  },
  {
   "cell_type": "code",
   "execution_count": 976,
   "metadata": {},
   "outputs": [
    {
     "data": {
      "text/plain": [
       "State\n",
       "Tamil Nadu              28.427674\n",
       "Maharashtra             22.823059\n",
       "Karnataka                8.094842\n",
       "Telangana                7.558361\n",
       "Uttar Pradesh            5.174551\n",
       "Punjab                   5.014846\n",
       "Gujarat                  4.135927\n",
       "Andhra Pradesh           3.966721\n",
       "Madhya Pradesh           3.070381\n",
       "Haryana                  3.056100\n",
       "Rajasthan                2.480267\n",
       "Delhi                    1.709254\n",
       "Kerala                   1.371207\n",
       "Bihar                    0.719779\n",
       "Uttarakhand              0.449117\n",
       "Himachal Pradesh         0.422642\n",
       "Pondicherry              0.330662\n",
       "West Bengal              0.289101\n",
       "Odisha                   0.285353\n",
       "Dadra and Nagar Hav.     0.279501\n",
       "Daman and Diu            0.150473\n",
       "Chattisgarh              0.094324\n",
       "Jharkhand                0.062296\n",
       "Goa                      0.024851\n",
       "Assam                    0.007200\n",
       "Jammu and Kashmir        0.000938\n",
       "Lakshadweep              0.000549\n",
       "Arunachal Pradesh        0.000026\n",
       "Name: Total Amt Wtd Tax., dtype: float64"
      ]
     },
     "execution_count": 976,
     "metadata": {},
     "output_type": "execute_result"
    }
   ],
   "source": [
    "((invoice_new.groupby(['State']).sum()['Total Amt Wtd Tax.']/1847738407)*100).sort_values(ascending=False)\n",
    "# invoice_new[['Total Amt Wtd Tax.']].sum()"
   ]
  },
  {
   "cell_type": "code",
   "execution_count": 395,
   "metadata": {},
   "outputs": [],
   "source": [
    "delhi_rev = invoice_subset2[invoice_subset2['State'] == 'Delhi'].groupby(['Year']).sum()"
   ]
  },
  {
   "cell_type": "code",
   "execution_count": 404,
   "metadata": {},
   "outputs": [
    {
     "data": {
      "text/html": [
       "<div>\n",
       "<style scoped>\n",
       "    .dataframe tbody tr th:only-of-type {\n",
       "        vertical-align: middle;\n",
       "    }\n",
       "\n",
       "    .dataframe tbody tr th {\n",
       "        vertical-align: top;\n",
       "    }\n",
       "\n",
       "    .dataframe thead th {\n",
       "        text-align: right;\n",
       "    }\n",
       "</style>\n",
       "<table border=\"1\" class=\"dataframe\">\n",
       "  <thead>\n",
       "    <tr style=\"text-align: right;\">\n",
       "      <th></th>\n",
       "      <th>Total Amt Wtd Tax.</th>\n",
       "    </tr>\n",
       "    <tr>\n",
       "      <th>Year</th>\n",
       "      <th></th>\n",
       "    </tr>\n",
       "  </thead>\n",
       "  <tbody>\n",
       "    <tr>\n",
       "      <th>2012</th>\n",
       "      <td>51040</td>\n",
       "    </tr>\n",
       "    <tr>\n",
       "      <th>2013</th>\n",
       "      <td>1422669</td>\n",
       "    </tr>\n",
       "    <tr>\n",
       "      <th>2014</th>\n",
       "      <td>7900641</td>\n",
       "    </tr>\n",
       "    <tr>\n",
       "      <th>2015</th>\n",
       "      <td>17087792</td>\n",
       "    </tr>\n",
       "    <tr>\n",
       "      <th>2016</th>\n",
       "      <td>5120393</td>\n",
       "    </tr>\n",
       "  </tbody>\n",
       "</table>\n",
       "</div>"
      ],
      "text/plain": [
       "      Total Amt Wtd Tax.\n",
       "Year                    \n",
       "2012               51040\n",
       "2013             1422669\n",
       "2014             7900641\n",
       "2015            17087792\n",
       "2016             5120393"
      ]
     },
     "execution_count": 404,
     "metadata": {},
     "output_type": "execute_result"
    }
   ],
   "source": [
    "delhi_rev"
   ]
  },
  {
   "cell_type": "code",
   "execution_count": 752,
   "metadata": {},
   "outputs": [
    {
     "data": {
      "text/plain": [
       "[Text(0, 0.5, 'Amount'),\n",
       " Text(0.5, 0, 'Year'),\n",
       " Text(0.5, 1.0, 'Revenue at Delhi service centre')]"
      ]
     },
     "execution_count": 752,
     "metadata": {},
     "output_type": "execute_result"
    },
    {
     "data": {
      "image/png": "[encoded data removed]",
      "text/plain": [
       "<Figure size 432x288 with 1 Axes>"
      ]
     },
     "metadata": {
      "needs_background": "light"
     },
     "output_type": "display_data"
    }
   ],
   "source": [
    "def currency_d(x, pos):\n",
    "    'The two args are the value and tick position'    \n",
    "    return '₹{:1.0f}M'.format(x*1e-6)\n",
    "\n",
    "fig, ax = plt.subplots()\n",
    "formatter = FuncFormatter(currency_d)\n",
    "ax.yaxis.set_major_formatter(formatter)\n",
    "\n",
    "sns.barplot(y=delhi_rev['Total Amt Wtd Tax.'],\n",
    "            x=delhi_rev.index)\n",
    "ax.set(title='Revenue at Delhi service centre', xlabel='Year', ylabel='Amount')"
   ]
  },
  {
   "cell_type": "code",
   "execution_count": 753,
   "metadata": {},
   "outputs": [],
   "source": [
    "kerala_rev = invoice_subset2[invoice_subset2['State'] == 'Kerala'].groupby(['Year']).sum()"
   ]
  },
  {
   "cell_type": "code",
   "execution_count": 754,
   "metadata": {},
   "outputs": [
    {
     "data": {
      "text/html": [
       "<div>\n",
       "<style scoped>\n",
       "    .dataframe tbody tr th:only-of-type {\n",
       "        vertical-align: middle;\n",
       "    }\n",
       "\n",
       "    .dataframe tbody tr th {\n",
       "        vertical-align: top;\n",
       "    }\n",
       "\n",
       "    .dataframe thead th {\n",
       "        text-align: right;\n",
       "    }\n",
       "</style>\n",
       "<table border=\"1\" class=\"dataframe\">\n",
       "  <thead>\n",
       "    <tr style=\"text-align: right;\">\n",
       "      <th></th>\n",
       "      <th>Total Amt Wtd Tax.</th>\n",
       "    </tr>\n",
       "    <tr>\n",
       "      <th>Year</th>\n",
       "      <th></th>\n",
       "    </tr>\n",
       "  </thead>\n",
       "  <tbody>\n",
       "    <tr>\n",
       "      <th>2013</th>\n",
       "      <td>1699457</td>\n",
       "    </tr>\n",
       "    <tr>\n",
       "      <th>2014</th>\n",
       "      <td>9539229</td>\n",
       "    </tr>\n",
       "    <tr>\n",
       "      <th>2015</th>\n",
       "      <td>4017397</td>\n",
       "    </tr>\n",
       "    <tr>\n",
       "      <th>2016</th>\n",
       "      <td>10080236</td>\n",
       "    </tr>\n",
       "  </tbody>\n",
       "</table>\n",
       "</div>"
      ],
      "text/plain": [
       "      Total Amt Wtd Tax.\n",
       "Year                    \n",
       "2013             1699457\n",
       "2014             9539229\n",
       "2015             4017397\n",
       "2016            10080236"
      ]
     },
     "execution_count": 754,
     "metadata": {},
     "output_type": "execute_result"
    }
   ],
   "source": [
    "kerala_rev"
   ]
  },
  {
   "cell_type": "code",
   "execution_count": 755,
   "metadata": {},
   "outputs": [
    {
     "data": {
      "text/plain": [
       "[Text(0, 0.5, 'Amount'),\n",
       " Text(0.5, 0, 'Year'),\n",
       " Text(0.5, 1.0, 'Revenue at Kerala service centre')]"
      ]
     },
     "execution_count": 755,
     "metadata": {},
     "output_type": "execute_result"
    },
    {
     "data": {
      "image/png": "[encoded data removed]",
      "text/plain": [
       "<Figure size 432x288 with 1 Axes>"
      ]
     },
     "metadata": {
      "needs_background": "light"
     },
     "output_type": "display_data"
    }
   ],
   "source": [
    "def currency_k(x, pos):\n",
    "    'The two args are the value and tick position'    \n",
    "    return '₹{:1.0f}M'.format(x*1e-6)\n",
    "\n",
    "fig, ax = plt.subplots()\n",
    "formatter = FuncFormatter(currency_d)\n",
    "ax.yaxis.set_major_formatter(formatter)\n",
    "\n",
    "sns.barplot(y=kerala_rev['Total Amt Wtd Tax.'],\n",
    "            x=kerala_rev.index)\n",
    "ax.set(title='Revenue at Kerala service centre', xlabel='Year', ylabel='Amount')"
   ]
  },
  {
   "cell_type": "code",
   "execution_count": 423,
   "metadata": {},
   "outputs": [
    {
     "data": {
      "text/html": [
       "<div>\n",
       "<style scoped>\n",
       "    .dataframe tbody tr th:only-of-type {\n",
       "        vertical-align: middle;\n",
       "    }\n",
       "\n",
       "    .dataframe tbody tr th {\n",
       "        vertical-align: top;\n",
       "    }\n",
       "\n",
       "    .dataframe thead th {\n",
       "        text-align: right;\n",
       "    }\n",
       "</style>\n",
       "<table border=\"1\" class=\"dataframe\">\n",
       "  <thead>\n",
       "    <tr style=\"text-align: right;\">\n",
       "      <th></th>\n",
       "      <th>Total Amt Wtd Tax.</th>\n",
       "    </tr>\n",
       "    <tr>\n",
       "      <th>Year</th>\n",
       "      <th></th>\n",
       "    </tr>\n",
       "  </thead>\n",
       "  <tbody>\n",
       "    <tr>\n",
       "      <th>2012</th>\n",
       "      <td>13324515</td>\n",
       "    </tr>\n",
       "    <tr>\n",
       "      <th>2013</th>\n",
       "      <td>52927472</td>\n",
       "    </tr>\n",
       "    <tr>\n",
       "      <th>2014</th>\n",
       "      <td>78346832</td>\n",
       "    </tr>\n",
       "    <tr>\n",
       "      <th>2015</th>\n",
       "      <td>173685103</td>\n",
       "    </tr>\n",
       "    <tr>\n",
       "      <th>2016</th>\n",
       "      <td>206985136</td>\n",
       "    </tr>\n",
       "  </tbody>\n",
       "</table>\n",
       "</div>"
      ],
      "text/plain": [
       "      Total Amt Wtd Tax.\n",
       "Year                    \n",
       "2012            13324515\n",
       "2013            52927472\n",
       "2014            78346832\n",
       "2015           173685103\n",
       "2016           206985136"
      ]
     },
     "execution_count": 423,
     "metadata": {},
     "output_type": "execute_result"
    }
   ],
   "source": [
    "invoice_subset2[invoice_subset2['State'] == 'Tamil Nadu'].groupby(['Year']).sum()"
   ]
  },
  {
   "cell_type": "code",
   "execution_count": 477,
   "metadata": {},
   "outputs": [
    {
     "data": {
      "image/png": "[encoded data removed]",
      "text/plain": [
       "<Figure size 432x288 with 1 Axes>"
      ]
     },
     "metadata": {},
     "output_type": "display_data"
    }
   ],
   "source": [
    "top_5_make = invoice_subset2['Make'].value_counts()[:5]\n",
    "make_others = pd.Series(data=invoice_subset2['Make'].value_counts()[5:].sum(),index=['Others'])\n",
    "\n",
    "make_distr = top_5_make.append(make_others)\n",
    "explode = [0.1,0,0,0,0,0]\n",
    "fig1, ax1 = plt.subplots()\n",
    "ax1.pie(make_distr.values,explode = explode, labels=make_distr.index, autopct='%1.1f%%',\n",
    "        shadow=True, startangle=90)\n",
    "ax1.axis('equal')  # Equal aspect ratio ensures that pie is drawn as a circle.\n",
    "ax1.set(title='Overall Car Brand Distribution')\n",
    "plt.show()"
   ]
  },
  {
   "cell_type": "code",
   "execution_count": 481,
   "metadata": {},
   "outputs": [
    {
     "data": {
      "text/plain": [
       "SWIFT          30310\n",
       "ALTO           27178\n",
       "WAGONR         21666\n",
       "SWIFT DZIRE    15148\n",
       "800             9573\n",
       "Name: Model, dtype: int64"
      ]
     },
     "execution_count": 481,
     "metadata": {},
     "output_type": "execute_result"
    }
   ],
   "source": [
    "invoice_subset2[invoice_subset2['Make']== 'MARUTI SUZUKI']['Model'].value_counts()[:5]"
   ]
  },
  {
   "cell_type": "code",
   "execution_count": 489,
   "metadata": {},
   "outputs": [],
   "source": [
    "invoice_subset2.dropna(axis=0,inplace=True)"
   ]
  },
  {
   "cell_type": "code",
   "execution_count": 519,
   "metadata": {},
   "outputs": [],
   "source": [
    "a = invoice_subset2.groupby(['State','Make']).size()\n",
    "\n",
    "top10_state_most_ser = final_invoice_subset['State'].value_counts().index[:10]\n"
   ]
  },
  {
   "cell_type": "code",
   "execution_count": 536,
   "metadata": {},
   "outputs": [],
   "source": [
    "sub = invoice_subset2[['State','Make']][invoice_subset2['State'].isin(top10_state_most_ser)]"
   ]
  },
  {
   "cell_type": "code",
   "execution_count": 540,
   "metadata": {},
   "outputs": [],
   "source": [
    "sub = sub[['State','Make']][sub['Make'].isin(top_5_make.index)]"
   ]
  },
  {
   "cell_type": "code",
   "execution_count": 544,
   "metadata": {},
   "outputs": [],
   "source": [
    "mosaic = sub.groupby(['State','Make']).size().unstack()"
   ]
  },
  {
   "cell_type": "code",
   "execution_count": 553,
   "metadata": {},
   "outputs": [
    {
     "data": {
      "text/html": [
       "<div>\n",
       "<style scoped>\n",
       "    .dataframe tbody tr th:only-of-type {\n",
       "        vertical-align: middle;\n",
       "    }\n",
       "\n",
       "    .dataframe tbody tr th {\n",
       "        vertical-align: top;\n",
       "    }\n",
       "\n",
       "    .dataframe thead th {\n",
       "        text-align: right;\n",
       "    }\n",
       "</style>\n",
       "<table border=\"1\" class=\"dataframe\">\n",
       "  <thead>\n",
       "    <tr style=\"text-align: right;\">\n",
       "      <th>Make</th>\n",
       "      <th>GENERAL MOTORS</th>\n",
       "      <th>HYUNDAI</th>\n",
       "      <th>MAHINDRA &amp;  MAHINDRA</th>\n",
       "      <th>MARUTI SUZUKI</th>\n",
       "      <th>TATA MOTORS</th>\n",
       "    </tr>\n",
       "  </thead>\n",
       "  <tbody>\n",
       "    <tr>\n",
       "      <th>count</th>\n",
       "      <td>10.000000</td>\n",
       "      <td>10.000000</td>\n",
       "      <td>10.000000</td>\n",
       "      <td>10.000000</td>\n",
       "      <td>10.000000</td>\n",
       "    </tr>\n",
       "    <tr>\n",
       "      <th>mean</th>\n",
       "      <td>2274.900000</td>\n",
       "      <td>6897.200000</td>\n",
       "      <td>6335.600000</td>\n",
       "      <td>11625.900000</td>\n",
       "      <td>4748.200000</td>\n",
       "    </tr>\n",
       "    <tr>\n",
       "      <th>std</th>\n",
       "      <td>2150.599475</td>\n",
       "      <td>6061.746133</td>\n",
       "      <td>7408.650262</td>\n",
       "      <td>9816.663072</td>\n",
       "      <td>4787.774913</td>\n",
       "    </tr>\n",
       "    <tr>\n",
       "      <th>min</th>\n",
       "      <td>546.000000</td>\n",
       "      <td>1721.000000</td>\n",
       "      <td>1683.000000</td>\n",
       "      <td>3366.000000</td>\n",
       "      <td>789.000000</td>\n",
       "    </tr>\n",
       "    <tr>\n",
       "      <th>25%</th>\n",
       "      <td>1150.750000</td>\n",
       "      <td>3527.250000</td>\n",
       "      <td>2091.750000</td>\n",
       "      <td>6300.750000</td>\n",
       "      <td>1827.750000</td>\n",
       "    </tr>\n",
       "    <tr>\n",
       "      <th>50%</th>\n",
       "      <td>1311.000000</td>\n",
       "      <td>4970.500000</td>\n",
       "      <td>2899.000000</td>\n",
       "      <td>8055.000000</td>\n",
       "      <td>3231.500000</td>\n",
       "    </tr>\n",
       "    <tr>\n",
       "      <th>75%</th>\n",
       "      <td>2290.500000</td>\n",
       "      <td>6150.000000</td>\n",
       "      <td>5029.500000</td>\n",
       "      <td>11173.000000</td>\n",
       "      <td>4164.500000</td>\n",
       "    </tr>\n",
       "    <tr>\n",
       "      <th>max</th>\n",
       "      <td>7195.000000</td>\n",
       "      <td>18522.000000</td>\n",
       "      <td>21792.000000</td>\n",
       "      <td>34271.000000</td>\n",
       "      <td>15390.000000</td>\n",
       "    </tr>\n",
       "  </tbody>\n",
       "</table>\n",
       "</div>"
      ],
      "text/plain": [
       "Make   GENERAL MOTORS       HYUNDAI  MAHINDRA &  MAHINDRA  MARUTI SUZUKI  \\\n",
       "count       10.000000     10.000000             10.000000      10.000000   \n",
       "mean      2274.900000   6897.200000           6335.600000   11625.900000   \n",
       "std       2150.599475   6061.746133           7408.650262    9816.663072   \n",
       "min        546.000000   1721.000000           1683.000000    3366.000000   \n",
       "25%       1150.750000   3527.250000           2091.750000    6300.750000   \n",
       "50%       1311.000000   4970.500000           2899.000000    8055.000000   \n",
       "75%       2290.500000   6150.000000           5029.500000   11173.000000   \n",
       "max       7195.000000  18522.000000          21792.000000   34271.000000   \n",
       "\n",
       "Make    TATA MOTORS  \n",
       "count     10.000000  \n",
       "mean    4748.200000  \n",
       "std     4787.774913  \n",
       "min      789.000000  \n",
       "25%     1827.750000  \n",
       "50%     3231.500000  \n",
       "75%     4164.500000  \n",
       "max    15390.000000  "
      ]
     },
     "execution_count": 553,
     "metadata": {},
     "output_type": "execute_result"
    }
   ],
   "source": [
    "mosaic.describe()"
   ]
  },
  {
   "cell_type": "code",
   "execution_count": 779,
   "metadata": {},
   "outputs": [
    {
     "data": {
      "text/plain": [
       "<matplotlib.axes._subplots.AxesSubplot at 0x1a12ea366a0>"
      ]
     },
     "execution_count": 779,
     "metadata": {},
     "output_type": "execute_result"
    },
    {
     "data": {
      "image/png": "[encoded data removed]",
      "text/plain": [
       "<Figure size 432x288 with 2 Axes>"
      ]
     },
     "metadata": {
      "needs_background": "light"
     },
     "output_type": "display_data"
    }
   ],
   "source": [
    "sns.heatmap(data=mosaic,vmin=500,vmax=35000,cmap='viridis')"
   ]
  },
  {
   "cell_type": "code",
   "execution_count": 563,
   "metadata": {},
   "outputs": [],
   "source": [
    "monthDict={1:'Jan', 2:'Feb', 3:'Mar', 4:'Apr', 5:'May', 6:'Jun', 7:'Jul', 8:'Aug', 9:'Sep', 10:'Oct', 11:'Nov', 12:'Dec'}"
   ]
  },
  {
   "cell_type": "code",
   "execution_count": 564,
   "metadata": {},
   "outputs": [],
   "source": [
    "final_invoice['Month'] = pd.to_datetime(final_invoice['Invoice Date']).dt.month.map(monthDict)"
   ]
  },
  {
   "cell_type": "code",
   "execution_count": 784,
   "metadata": {},
   "outputs": [],
   "source": [
    "invoice_new = final_invoice.copy()"
   ]
  },
  {
   "cell_type": "code",
   "execution_count": 785,
   "metadata": {},
   "outputs": [],
   "source": [
    "invoice_new = invoice_new.drop(['CITY','District','Pin code','Plant','Regn No'],axis=1)"
   ]
  },
  {
   "cell_type": "code",
   "execution_count": 786,
   "metadata": {},
   "outputs": [],
   "source": [
    "maha_visits_monthly = invoice_new['Month'][invoice_new['State'] == 'Maharashtra'].value_counts().reindex(['Jan','Feb','Mar','Apr','May','Jun','Jul','Aug','Sep','Oct','Nov','Dec'])"
   ]
  },
  {
   "cell_type": "code",
   "execution_count": 787,
   "metadata": {},
   "outputs": [
    {
     "data": {
      "text/plain": [
       "Jan     7956\n",
       "Feb     7966\n",
       "Mar     8945\n",
       "Apr     8854\n",
       "May     9281\n",
       "Jun     9309\n",
       "Jul     9580\n",
       "Aug     9426\n",
       "Sep     9067\n",
       "Oct    10152\n",
       "Nov     6984\n",
       "Dec     8430\n",
       "Name: Month, dtype: int64"
      ]
     },
     "execution_count": 787,
     "metadata": {},
     "output_type": "execute_result"
    }
   ],
   "source": [
    "maha_visits_monthly"
   ]
  },
  {
   "cell_type": "code",
   "execution_count": 788,
   "metadata": {},
   "outputs": [
    {
     "data": {
      "image/png": "[encoded data removed]",
      "text/plain": [
       "<Figure size 432x288 with 1 Axes>"
      ]
     },
     "metadata": {
      "needs_background": "light"
     },
     "output_type": "display_data"
    }
   ],
   "source": [
    "fig1, ax2 = plt.subplots()\n",
    "sns.barplot(x = maha_visits_monthly.index,\n",
    "              y = maha_visits_monthly.values)\n",
    "\n",
    "ax2.set(title='Monthly Servicing Numbers for MAHARASHTRA',xlabel='Months',ylabel='Number of servicings')\n",
    "plt.show()"
   ]
  },
  {
   "cell_type": "code",
   "execution_count": 789,
   "metadata": {},
   "outputs": [],
   "source": [
    "TN_visits_monthly = invoice_new['Month'][invoice_new['State'] == 'Tamil Nadu'].value_counts().reindex(['Jan','Feb','Mar','Apr','May','Jun','Jul','Aug','Sep','Oct','Nov','Dec'])"
   ]
  },
  {
   "cell_type": "code",
   "execution_count": 790,
   "metadata": {},
   "outputs": [
    {
     "data": {
      "text/plain": [
       "Jan     6503\n",
       "Feb     8032\n",
       "Mar     7392\n",
       "Apr     7925\n",
       "May     8595\n",
       "Jun     8903\n",
       "Jul    11899\n",
       "Aug     9608\n",
       "Sep    10950\n",
       "Oct    10184\n",
       "Nov     5461\n",
       "Dec     6802\n",
       "Name: Month, dtype: int64"
      ]
     },
     "execution_count": 790,
     "metadata": {},
     "output_type": "execute_result"
    }
   ],
   "source": [
    "TN_visits_monthly"
   ]
  },
  {
   "cell_type": "code",
   "execution_count": 791,
   "metadata": {},
   "outputs": [
    {
     "data": {
      "image/png": "[encoded data removed]",
      "text/plain": [
       "<Figure size 432x288 with 1 Axes>"
      ]
     },
     "metadata": {
      "needs_background": "light"
     },
     "output_type": "display_data"
    }
   ],
   "source": [
    "fig1, ax2 = plt.subplots()\n",
    "sns.barplot(x = TN_visits_monthly.index,\n",
    "              y = TN_visits_monthly.values)\n",
    "\n",
    "ax2.set(title='Monthly Servicing Numbers for TAMIL NADU',xlabel='Months',ylabel='Number of servicings')\n",
    "plt.show()"
   ]
  },
  {
   "cell_type": "code",
   "execution_count": 792,
   "metadata": {},
   "outputs": [
    {
     "data": {
      "image/png": "[encoded data removed]",
      "text/plain": [
       "<Figure size 432x288 with 1 Axes>"
      ]
     },
     "metadata": {
      "needs_background": "light"
     },
     "output_type": "display_data"
    }
   ],
   "source": [
    "ke_visits_monthly = invoice_new['Month'][invoice_new['State'] == 'Kerala'].value_counts().reindex(['Jan','Feb','Mar','Apr','May','Jun','Jul','Aug','Sep','Oct','Nov','Dec'])\n",
    "\n",
    "fig1, ax2 = plt.subplots()\n",
    "sns.barplot(x = ke_visits_monthly.index,\n",
    "              y = ke_visits_monthly.values)\n",
    "\n",
    "ax2.set(title='Monthly Servicing Numbers for KERALA',xlabel='Months',ylabel='Number of servicings')\n",
    "plt.show()"
   ]
  },
  {
   "cell_type": "code",
   "execution_count": 793,
   "metadata": {},
   "outputs": [
    {
     "data": {
      "image/png": "[encoded data removed]",
      "text/plain": [
       "<Figure size 432x288 with 1 Axes>"
      ]
     },
     "metadata": {
      "needs_background": "light"
     },
     "output_type": "display_data"
    }
   ],
   "source": [
    "de_visits_monthly = invoice_new['Month'][invoice_new['State'] == 'Delhi'].value_counts().reindex(['Jan','Feb','Mar','Apr','May','Jun','Jul','Aug','Sep','Oct','Nov','Dec'])\n",
    "\n",
    "fig1, ax2 = plt.subplots()\n",
    "sns.barplot(x = de_visits_monthly.index,\n",
    "              y = de_visits_monthly.values)\n",
    "\n",
    "ax2.set(title='Monthly Servicing Numbers for DELHI',xlabel='Months',ylabel='Number of servicings')\n",
    "plt.show()"
   ]
  },
  {
   "cell_type": "code",
   "execution_count": 794,
   "metadata": {},
   "outputs": [
    {
     "data": {
      "image/png": "[encoded data removed]",
      "text/plain": [
       "<Figure size 432x288 with 1 Axes>"
      ]
     },
     "metadata": {
      "needs_background": "light"
     },
     "output_type": "display_data"
    }
   ],
   "source": [
    "de_yearly_custs = invoice_new['Year'][invoice_new['State'] == 'Delhi'].value_counts().sort_index()\n",
    "\n",
    "fig1, ax2 = plt.subplots()\n",
    "sns.barplot(x = de_yearly_custs.index,\n",
    "              y = de_yearly_custs.values)\n",
    "\n",
    "ax2.set(title='Yearly Servicing Numbers for DELHI',xlabel='Months',ylabel='Number of servicings')\n",
    "plt.show()"
   ]
  },
  {
   "cell_type": "code",
   "execution_count": 795,
   "metadata": {},
   "outputs": [
    {
     "data": {
      "image/png": "[encoded data removed]",
      "text/plain": [
       "<Figure size 432x288 with 1 Axes>"
      ]
     },
     "metadata": {
      "needs_background": "light"
     },
     "output_type": "display_data"
    }
   ],
   "source": [
    "ke_yearly_custs = invoice_new['Year'][invoice_new['State'] == 'Kerala'].value_counts().sort_index()\n",
    "\n",
    "fig1, ax2 = plt.subplots()\n",
    "sns.barplot(x = ke_yearly_custs.index,\n",
    "            y = ke_yearly_custs.values)\n",
    "\n",
    "ax2.set(title='Yearly Servicing Numbers for KERALA',xlabel='Months',ylabel='Number of servicings')\n",
    "plt.show()"
   ]
  },
  {
   "cell_type": "code",
   "execution_count": 796,
   "metadata": {},
   "outputs": [
    {
     "data": {
      "text/plain": [
       "[Text(0, 0.5, 'Amount'),\n",
       " Text(0.5, 0, 'Year'),\n",
       " Text(0.5, 1.0, 'Top 10 states with highest mean revenue')]"
      ]
     },
     "execution_count": 796,
     "metadata": {},
     "output_type": "execute_result"
    },
    {
     "data": {
      "image/png": "[encoded data removed]",
      "text/plain": [
       "<Figure size 432x288 with 1 Axes>"
      ]
     },
     "metadata": {
      "needs_background": "light"
     },
     "output_type": "display_data"
    }
   ],
   "source": [
    "mean_spend_state = invoice_new.groupby(['State']).mean()['Total Amt Wtd Tax.'].sort_values(ascending=False)[1:11]\n",
    "\n",
    "# def currency_me(x, pos):\n",
    "#     'The two args are the value and tick position'    \n",
    "#     return '₹{:1.0f}M'.format(x*1e-6)\n",
    "\n",
    "fig, ax = plt.subplots()\n",
    "# formatter = FuncFormatter(currency_d)\n",
    "# ax.yaxis.set_major_formatter(formatter)\n",
    "\n",
    "sns.barplot(x=mean_spend_state.values,\n",
    "            y=mean_spend_state.index)\n",
    "ax.set(title='Top 10 states with highest mean revenue', xlabel='Year', ylabel='Amount')"
   ]
  },
  {
   "cell_type": "code",
   "execution_count": 797,
   "metadata": {},
   "outputs": [
    {
     "data": {
      "text/plain": [
       "State\n",
       "Delhi                   6179.691677\n",
       "Daman and Diu           6031.555727\n",
       "Dadra and Nagar Hav.    5745.069911\n",
       "Tamil Nadu              5137.348642\n",
       "Telangana               5104.368146\n",
       "Kerala                  4873.764326\n",
       "Jharkhand               4816.640209\n",
       "Andhra Pradesh          4642.876623\n",
       "Bihar                   4624.793328\n",
       "Punjab                  4592.814019\n",
       "Name: Total Amt Wtd Tax., dtype: float64"
      ]
     },
     "execution_count": 797,
     "metadata": {},
     "output_type": "execute_result"
    }
   ],
   "source": [
    "invoice_new.groupby(['State']).mean()['Total Amt Wtd Tax.'].sort_values(ascending=False)[1:11]"
   ]
  },
  {
   "cell_type": "code",
   "execution_count": 798,
   "metadata": {},
   "outputs": [],
   "source": [
    "invoice_new['Total Amt Wtd Tax.'] = invoice_new['Total Amt Wtd Tax.'].astype(int)"
   ]
  },
  {
   "cell_type": "code",
   "execution_count": 799,
   "metadata": {},
   "outputs": [
    {
     "data": {
      "text/plain": [
       "[Text(0, 0.5, 'Amount'),\n",
       " Text(0.5, 0, 'Year'),\n",
       " Text(0.5, 1.0, 'Service Type with Mean amount values')]"
      ]
     },
     "execution_count": 799,
     "metadata": {},
     "output_type": "execute_result"
    },
    {
     "data": {
      "image/png": "[encoded data removed]",
      "text/plain": [
       "<Figure size 576x432 with 1 Axes>"
      ]
     },
     "metadata": {
      "needs_background": "light"
     },
     "output_type": "display_data"
    }
   ],
   "source": [
    "order_type_rev = invoice_new.groupby(['Order Type']).mean()['Total Amt Wtd Tax.'].sort_values(ascending=False)\n",
    "\n",
    "fig, ax = plt.subplots(figsize=(8,6))\n",
    "\n",
    "sns.barplot(x=order_type_rev.values,\n",
    "            y=order_type_rev.index)\n",
    "ax.set(title='Service Type with Mean amount values', xlabel='Year', ylabel='Amount')"
   ]
  },
  {
   "cell_type": "code",
   "execution_count": 800,
   "metadata": {},
   "outputs": [],
   "source": [
    "invoice_new['JobCard Date'] = pd.to_datetime(invoice_new['JobCard Date'])"
   ]
  },
  {
   "cell_type": "code",
   "execution_count": 801,
   "metadata": {},
   "outputs": [],
   "source": [
    "invoice_new['Invoice Date'] = pd.to_datetime(invoice_new['Invoice Date'])"
   ]
  },
  {
   "cell_type": "code",
   "execution_count": 802,
   "metadata": {},
   "outputs": [],
   "source": [
    "invoice_new['Invoice Time'] = final_invoice_copy1['Invoice Time']"
   ]
  },
  {
   "cell_type": "code",
   "execution_count": 803,
   "metadata": {},
   "outputs": [],
   "source": [
    "invoice_new['JobCard Time'] = final_invoice_copy1['JobCard Time']"
   ]
  },
  {
   "cell_type": "code",
   "execution_count": 804,
   "metadata": {},
   "outputs": [],
   "source": [
    "invoice_new['Invoice Date Time'] = invoice_new['Invoice Date'].astype(str).str.cat(invoice_new[['Invoice Time']].astype(str),sep=' ')"
   ]
  },
  {
   "cell_type": "code",
   "execution_count": 805,
   "metadata": {},
   "outputs": [],
   "source": [
    "invoice_new['JobCard Date Time'] = invoice_new['JobCard Date'].astype(str).str.cat(invoice_new[['JobCard Time']].astype(str), sep=' ')"
   ]
  },
  {
   "cell_type": "code",
   "execution_count": 807,
   "metadata": {},
   "outputs": [
    {
     "data": {
      "text/html": [
       "<div>\n",
       "<style scoped>\n",
       "    .dataframe tbody tr th:only-of-type {\n",
       "        vertical-align: middle;\n",
       "    }\n",
       "\n",
       "    .dataframe tbody tr th {\n",
       "        vertical-align: top;\n",
       "    }\n",
       "\n",
       "    .dataframe thead th {\n",
       "        text-align: right;\n",
       "    }\n",
       "</style>\n",
       "<table border=\"1\" class=\"dataframe\">\n",
       "  <thead>\n",
       "    <tr style=\"text-align: right;\">\n",
       "      <th></th>\n",
       "      <th>Cust Type</th>\n",
       "      <th>Customer No.</th>\n",
       "      <th>Invoice Date</th>\n",
       "      <th>Job Card No</th>\n",
       "      <th>JobCard Date</th>\n",
       "      <th>Make</th>\n",
       "      <th>Model</th>\n",
       "      <th>Order Type</th>\n",
       "      <th>Total Amt Wtd Tax.</th>\n",
       "      <th>City</th>\n",
       "      <th>Year</th>\n",
       "      <th>State</th>\n",
       "      <th>Month</th>\n",
       "      <th>Invoice Time</th>\n",
       "      <th>JobCard Time</th>\n",
       "      <th>Invoice Date Time</th>\n",
       "      <th>JobCard Date Time</th>\n",
       "    </tr>\n",
       "  </thead>\n",
       "  <tbody>\n",
       "    <tr>\n",
       "      <th>0</th>\n",
       "      <td>Retail</td>\n",
       "      <td>67849</td>\n",
       "      <td>2015-01-02</td>\n",
       "      <td>168303</td>\n",
       "      <td>2014-12-13</td>\n",
       "      <td>GENERAL MOTORS</td>\n",
       "      <td>SPARK</td>\n",
       "      <td>Paid Service</td>\n",
       "      <td>4051</td>\n",
       "      <td>THANE</td>\n",
       "      <td>2014</td>\n",
       "      <td>Maharashtra</td>\n",
       "      <td>Jan</td>\n",
       "      <td>11:30:36</td>\n",
       "      <td>14:29:43</td>\n",
       "      <td>2015-01-02 11:30:36</td>\n",
       "      <td>2014-12-13 14:29:43</td>\n",
       "    </tr>\n",
       "    <tr>\n",
       "      <th>1</th>\n",
       "      <td>Retail</td>\n",
       "      <td>84419</td>\n",
       "      <td>2015-01-03</td>\n",
       "      <td>173997</td>\n",
       "      <td>2015-01-02</td>\n",
       "      <td>TATA MOTORS</td>\n",
       "      <td>INDICA</td>\n",
       "      <td>SMC Value Package</td>\n",
       "      <td>1001</td>\n",
       "      <td>THANE</td>\n",
       "      <td>2015</td>\n",
       "      <td>Maharashtra</td>\n",
       "      <td>Jan</td>\n",
       "      <td>10:07:32</td>\n",
       "      <td>14:12:18</td>\n",
       "      <td>2015-01-03 10:07:32</td>\n",
       "      <td>2015-01-02 14:12:18</td>\n",
       "    </tr>\n",
       "    <tr>\n",
       "      <th>2</th>\n",
       "      <td>Retail</td>\n",
       "      <td>81055</td>\n",
       "      <td>2015-01-03</td>\n",
       "      <td>173889</td>\n",
       "      <td>2015-01-02</td>\n",
       "      <td>MARUTI SUZUKI</td>\n",
       "      <td>ZEN</td>\n",
       "      <td>Running Repairs</td>\n",
       "      <td>233</td>\n",
       "      <td>THANE</td>\n",
       "      <td>2015</td>\n",
       "      <td>Maharashtra</td>\n",
       "      <td>Jan</td>\n",
       "      <td>11:12:57</td>\n",
       "      <td>11:40:44</td>\n",
       "      <td>2015-01-03 11:12:57</td>\n",
       "      <td>2015-01-02 11:40:44</td>\n",
       "    </tr>\n",
       "    <tr>\n",
       "      <th>3</th>\n",
       "      <td>Retail</td>\n",
       "      <td>84419</td>\n",
       "      <td>2015-01-03</td>\n",
       "      <td>174158</td>\n",
       "      <td>2015-01-03</td>\n",
       "      <td>TATA MOTORS</td>\n",
       "      <td>INDICA</td>\n",
       "      <td>SMC Redemption</td>\n",
       "      <td>0</td>\n",
       "      <td>THANE</td>\n",
       "      <td>2015</td>\n",
       "      <td>Maharashtra</td>\n",
       "      <td>Jan</td>\n",
       "      <td>11:40:44</td>\n",
       "      <td>10:12:32</td>\n",
       "      <td>2015-01-03 11:40:44</td>\n",
       "      <td>2015-01-03 10:12:32</td>\n",
       "    </tr>\n",
       "    <tr>\n",
       "      <th>4</th>\n",
       "      <td>Retail</td>\n",
       "      <td>18980</td>\n",
       "      <td>2015-01-03</td>\n",
       "      <td>173860</td>\n",
       "      <td>2015-01-02</td>\n",
       "      <td>HYUNDAI</td>\n",
       "      <td>SANTRO XING</td>\n",
       "      <td>Paid Service</td>\n",
       "      <td>2747</td>\n",
       "      <td>THANE</td>\n",
       "      <td>2015</td>\n",
       "      <td>Maharashtra</td>\n",
       "      <td>Jan</td>\n",
       "      <td>12:07:17</td>\n",
       "      <td>10:45:42</td>\n",
       "      <td>2015-01-03 12:07:17</td>\n",
       "      <td>2015-01-02 10:45:42</td>\n",
       "    </tr>\n",
       "  </tbody>\n",
       "</table>\n",
       "</div>"
      ],
      "text/plain": [
       "  Cust Type Customer No. Invoice Date  Job Card No JobCard Date  \\\n",
       "0    Retail        67849   2015-01-02       168303   2014-12-13   \n",
       "1    Retail        84419   2015-01-03       173997   2015-01-02   \n",
       "2    Retail        81055   2015-01-03       173889   2015-01-02   \n",
       "3    Retail        84419   2015-01-03       174158   2015-01-03   \n",
       "4    Retail        18980   2015-01-03       173860   2015-01-02   \n",
       "\n",
       "             Make        Model         Order Type  Total Amt Wtd Tax.   City  \\\n",
       "0  GENERAL MOTORS        SPARK       Paid Service                4051  THANE   \n",
       "1     TATA MOTORS       INDICA  SMC Value Package                1001  THANE   \n",
       "2   MARUTI SUZUKI          ZEN    Running Repairs                 233  THANE   \n",
       "3     TATA MOTORS       INDICA     SMC Redemption                   0  THANE   \n",
       "4         HYUNDAI  SANTRO XING       Paid Service                2747  THANE   \n",
       "\n",
       "   Year        State Month Invoice Time JobCard Time    Invoice Date Time  \\\n",
       "0  2014  Maharashtra   Jan     11:30:36     14:29:43  2015-01-02 11:30:36   \n",
       "1  2015  Maharashtra   Jan     10:07:32     14:12:18  2015-01-03 10:07:32   \n",
       "2  2015  Maharashtra   Jan     11:12:57     11:40:44  2015-01-03 11:12:57   \n",
       "3  2015  Maharashtra   Jan     11:40:44     10:12:32  2015-01-03 11:40:44   \n",
       "4  2015  Maharashtra   Jan     12:07:17     10:45:42  2015-01-03 12:07:17   \n",
       "\n",
       "     JobCard Date Time  \n",
       "0  2014-12-13 14:29:43  \n",
       "1  2015-01-02 14:12:18  \n",
       "2  2015-01-02 11:40:44  \n",
       "3  2015-01-03 10:12:32  \n",
       "4  2015-01-02 10:45:42  "
      ]
     },
     "execution_count": 807,
     "metadata": {},
     "output_type": "execute_result"
    }
   ],
   "source": [
    "invoice_new.head()"
   ]
  },
  {
   "cell_type": "code",
   "execution_count": 808,
   "metadata": {},
   "outputs": [],
   "source": [
    "invoice_new['Invoice Date Time'] = pd.to_datetime(invoice_new['Invoice Date Time'])\n",
    "\n",
    "invoice_new['JobCard Date Time'] = pd.to_datetime(invoice_new['JobCard Date Time'])\n",
    "\n",
    "invoice_new['ServiceTime'] = invoice_new['Invoice Date Time']-invoice_new['JobCard Date Time']"
   ]
  },
  {
   "cell_type": "code",
   "execution_count": 809,
   "metadata": {},
   "outputs": [
    {
     "data": {
      "text/plain": [
       "count                     461849\n",
       "mean      3 days 11:22:21.975591\n",
       "std      11 days 13:35:56.177805\n",
       "min            -1 days +23:59:27\n",
       "25%              0 days 02:37:58\n",
       "50%              0 days 08:23:11\n",
       "75%              2 days 07:17:24\n",
       "max            740 days 09:15:41\n",
       "Name: ServiceTime, dtype: object"
      ]
     },
     "execution_count": 809,
     "metadata": {},
     "output_type": "execute_result"
    }
   ],
   "source": [
    "invoice_new['ServiceTime'].describe()"
   ]
  },
  {
   "cell_type": "code",
   "execution_count": 810,
   "metadata": {},
   "outputs": [],
   "source": [
    "invoice_new['ServiceTime_category']=None"
   ]
  },
  {
   "cell_type": "code",
   "execution_count": 811,
   "metadata": {},
   "outputs": [],
   "source": [
    "invoice_new.loc[invoice_new['ServiceTime']<=pd.Timedelta(hours=72),'ServiceTime_category']='fast'"
   ]
  },
  {
   "cell_type": "code",
   "execution_count": 812,
   "metadata": {},
   "outputs": [],
   "source": [
    "invoice_new.loc[invoice_new['ServiceTime']>pd.Timedelta(hours=72),'ServiceTime_category']='slow'"
   ]
  },
  {
   "cell_type": "code",
   "execution_count": 813,
   "metadata": {},
   "outputs": [
    {
     "data": {
      "text/html": [
       "<div>\n",
       "<style scoped>\n",
       "    .dataframe tbody tr th:only-of-type {\n",
       "        vertical-align: middle;\n",
       "    }\n",
       "\n",
       "    .dataframe tbody tr th {\n",
       "        vertical-align: top;\n",
       "    }\n",
       "\n",
       "    .dataframe thead th {\n",
       "        text-align: right;\n",
       "    }\n",
       "</style>\n",
       "<table border=\"1\" class=\"dataframe\">\n",
       "  <thead>\n",
       "    <tr style=\"text-align: right;\">\n",
       "      <th></th>\n",
       "      <th>Cust Type</th>\n",
       "      <th>Customer No.</th>\n",
       "      <th>Invoice Date</th>\n",
       "      <th>Job Card No</th>\n",
       "      <th>JobCard Date</th>\n",
       "      <th>Make</th>\n",
       "      <th>Model</th>\n",
       "      <th>Order Type</th>\n",
       "      <th>Total Amt Wtd Tax.</th>\n",
       "      <th>City</th>\n",
       "      <th>Year</th>\n",
       "      <th>State</th>\n",
       "      <th>Month</th>\n",
       "      <th>Invoice Time</th>\n",
       "      <th>JobCard Time</th>\n",
       "      <th>Invoice Date Time</th>\n",
       "      <th>JobCard Date Time</th>\n",
       "      <th>ServiceTime</th>\n",
       "      <th>ServiceTime_category</th>\n",
       "    </tr>\n",
       "  </thead>\n",
       "  <tbody>\n",
       "    <tr>\n",
       "      <th>0</th>\n",
       "      <td>Retail</td>\n",
       "      <td>67849</td>\n",
       "      <td>2015-01-02</td>\n",
       "      <td>168303</td>\n",
       "      <td>2014-12-13</td>\n",
       "      <td>GENERAL MOTORS</td>\n",
       "      <td>SPARK</td>\n",
       "      <td>Paid Service</td>\n",
       "      <td>4051</td>\n",
       "      <td>THANE</td>\n",
       "      <td>2014</td>\n",
       "      <td>Maharashtra</td>\n",
       "      <td>Jan</td>\n",
       "      <td>11:30:36</td>\n",
       "      <td>14:29:43</td>\n",
       "      <td>2015-01-02 11:30:36</td>\n",
       "      <td>2014-12-13 14:29:43</td>\n",
       "      <td>19 days 21:00:53</td>\n",
       "      <td>slow</td>\n",
       "    </tr>\n",
       "    <tr>\n",
       "      <th>1</th>\n",
       "      <td>Retail</td>\n",
       "      <td>84419</td>\n",
       "      <td>2015-01-03</td>\n",
       "      <td>173997</td>\n",
       "      <td>2015-01-02</td>\n",
       "      <td>TATA MOTORS</td>\n",
       "      <td>INDICA</td>\n",
       "      <td>SMC Value Package</td>\n",
       "      <td>1001</td>\n",
       "      <td>THANE</td>\n",
       "      <td>2015</td>\n",
       "      <td>Maharashtra</td>\n",
       "      <td>Jan</td>\n",
       "      <td>10:07:32</td>\n",
       "      <td>14:12:18</td>\n",
       "      <td>2015-01-03 10:07:32</td>\n",
       "      <td>2015-01-02 14:12:18</td>\n",
       "      <td>0 days 19:55:14</td>\n",
       "      <td>fast</td>\n",
       "    </tr>\n",
       "    <tr>\n",
       "      <th>2</th>\n",
       "      <td>Retail</td>\n",
       "      <td>81055</td>\n",
       "      <td>2015-01-03</td>\n",
       "      <td>173889</td>\n",
       "      <td>2015-01-02</td>\n",
       "      <td>MARUTI SUZUKI</td>\n",
       "      <td>ZEN</td>\n",
       "      <td>Running Repairs</td>\n",
       "      <td>233</td>\n",
       "      <td>THANE</td>\n",
       "      <td>2015</td>\n",
       "      <td>Maharashtra</td>\n",
       "      <td>Jan</td>\n",
       "      <td>11:12:57</td>\n",
       "      <td>11:40:44</td>\n",
       "      <td>2015-01-03 11:12:57</td>\n",
       "      <td>2015-01-02 11:40:44</td>\n",
       "      <td>0 days 23:32:13</td>\n",
       "      <td>fast</td>\n",
       "    </tr>\n",
       "    <tr>\n",
       "      <th>3</th>\n",
       "      <td>Retail</td>\n",
       "      <td>84419</td>\n",
       "      <td>2015-01-03</td>\n",
       "      <td>174158</td>\n",
       "      <td>2015-01-03</td>\n",
       "      <td>TATA MOTORS</td>\n",
       "      <td>INDICA</td>\n",
       "      <td>SMC Redemption</td>\n",
       "      <td>0</td>\n",
       "      <td>THANE</td>\n",
       "      <td>2015</td>\n",
       "      <td>Maharashtra</td>\n",
       "      <td>Jan</td>\n",
       "      <td>11:40:44</td>\n",
       "      <td>10:12:32</td>\n",
       "      <td>2015-01-03 11:40:44</td>\n",
       "      <td>2015-01-03 10:12:32</td>\n",
       "      <td>0 days 01:28:12</td>\n",
       "      <td>fast</td>\n",
       "    </tr>\n",
       "    <tr>\n",
       "      <th>4</th>\n",
       "      <td>Retail</td>\n",
       "      <td>18980</td>\n",
       "      <td>2015-01-03</td>\n",
       "      <td>173860</td>\n",
       "      <td>2015-01-02</td>\n",
       "      <td>HYUNDAI</td>\n",
       "      <td>SANTRO XING</td>\n",
       "      <td>Paid Service</td>\n",
       "      <td>2747</td>\n",
       "      <td>THANE</td>\n",
       "      <td>2015</td>\n",
       "      <td>Maharashtra</td>\n",
       "      <td>Jan</td>\n",
       "      <td>12:07:17</td>\n",
       "      <td>10:45:42</td>\n",
       "      <td>2015-01-03 12:07:17</td>\n",
       "      <td>2015-01-02 10:45:42</td>\n",
       "      <td>1 days 01:21:35</td>\n",
       "      <td>fast</td>\n",
       "    </tr>\n",
       "  </tbody>\n",
       "</table>\n",
       "</div>"
      ],
      "text/plain": [
       "  Cust Type Customer No. Invoice Date  Job Card No JobCard Date  \\\n",
       "0    Retail        67849   2015-01-02       168303   2014-12-13   \n",
       "1    Retail        84419   2015-01-03       173997   2015-01-02   \n",
       "2    Retail        81055   2015-01-03       173889   2015-01-02   \n",
       "3    Retail        84419   2015-01-03       174158   2015-01-03   \n",
       "4    Retail        18980   2015-01-03       173860   2015-01-02   \n",
       "\n",
       "             Make        Model         Order Type  Total Amt Wtd Tax.   City  \\\n",
       "0  GENERAL MOTORS        SPARK       Paid Service                4051  THANE   \n",
       "1     TATA MOTORS       INDICA  SMC Value Package                1001  THANE   \n",
       "2   MARUTI SUZUKI          ZEN    Running Repairs                 233  THANE   \n",
       "3     TATA MOTORS       INDICA     SMC Redemption                   0  THANE   \n",
       "4         HYUNDAI  SANTRO XING       Paid Service                2747  THANE   \n",
       "\n",
       "   Year        State Month Invoice Time JobCard Time   Invoice Date Time  \\\n",
       "0  2014  Maharashtra   Jan     11:30:36     14:29:43 2015-01-02 11:30:36   \n",
       "1  2015  Maharashtra   Jan     10:07:32     14:12:18 2015-01-03 10:07:32   \n",
       "2  2015  Maharashtra   Jan     11:12:57     11:40:44 2015-01-03 11:12:57   \n",
       "3  2015  Maharashtra   Jan     11:40:44     10:12:32 2015-01-03 11:40:44   \n",
       "4  2015  Maharashtra   Jan     12:07:17     10:45:42 2015-01-03 12:07:17   \n",
       "\n",
       "    JobCard Date Time      ServiceTime ServiceTime_category  \n",
       "0 2014-12-13 14:29:43 19 days 21:00:53                 slow  \n",
       "1 2015-01-02 14:12:18  0 days 19:55:14                 fast  \n",
       "2 2015-01-02 11:40:44  0 days 23:32:13                 fast  \n",
       "3 2015-01-03 10:12:32  0 days 01:28:12                 fast  \n",
       "4 2015-01-02 10:45:42  1 days 01:21:35                 fast  "
      ]
     },
     "execution_count": 813,
     "metadata": {},
     "output_type": "execute_result"
    }
   ],
   "source": [
    "invoice_new.head()"
   ]
  },
  {
   "cell_type": "code",
   "execution_count": 817,
   "metadata": {},
   "outputs": [
    {
     "data": {
      "text/plain": [
       "State                 ServiceTime_category\n",
       "Jammu and Kashmir     slow                        1\n",
       "Lakshadweep           slow                        1\n",
       "Arunachal Pradesh     fast                        1\n",
       "Lakshadweep           fast                        2\n",
       "Jammu and Kashmir     fast                        3\n",
       "Assam                 slow                        4\n",
       "Goa                   slow                       11\n",
       "                      fast                       15\n",
       "Assam                 fast                       87\n",
       "Daman and Diu         slow                       89\n",
       "Jharkhand             slow                      103\n",
       "                      fast                      136\n",
       "Chattisgarh           slow                      178\n",
       "Dadra and Nagar Hav.  slow                      190\n",
       "Odisha                slow                      346\n",
       "Pondicherry           slow                      367\n",
       "Daman and Diu         fast                      372\n",
       "Chattisgarh           fast                      424\n",
       "Uttarakhand           slow                      426\n",
       "West Bengal           slow                      547\n",
       "Dadra and Nagar Hav.  fast                      709\n",
       "West Bengal           fast                      764\n",
       "Himachal Pradesh      slow                      811\n",
       "Bihar                 slow                      996\n",
       "Pondicherry           fast                     1142\n",
       "Kerala                slow                     1195\n",
       "Delhi                 slow                     1279\n",
       "Odisha                fast                     1802\n",
       "Bihar                 fast                     1880\n",
       "Uttarakhand           fast                     2060\n",
       "Himachal Pradesh      fast                     2121\n",
       "Haryana               slow                     2555\n",
       "Rajasthan             slow                     2670\n",
       "Gujarat               slow                     3373\n",
       "Punjab                slow                     3744\n",
       "Delhi                 fast                     3832\n",
       "Madhya Pradesh        slow                     3957\n",
       "Kerala                fast                     4004\n",
       "Andhra Pradesh        slow                     4026\n",
       "Uttar Pradesh         slow                     5171\n",
       "Telangana             slow                     5757\n",
       "Madhya Pradesh        fast                     8839\n",
       "Rajasthan             fast                    10118\n",
       "Karnataka             slow                    11145\n",
       "Andhra Pradesh        fast                    11762\n",
       "Haryana               fast                    12560\n",
       "Punjab                fast                    16433\n",
       "Gujarat               fast                    16650\n",
       "Telangana             fast                    21606\n",
       "Uttar Pradesh         fast                    23286\n",
       "Maharashtra           slow                    23382\n",
       "Tamil Nadu            slow                    23908\n",
       "Karnataka             fast                    28033\n",
       "Tamil Nadu            fast                    78346\n",
       "Maharashtra           fast                    82568\n",
       "dtype: int64"
      ]
     },
     "execution_count": 817,
     "metadata": {},
     "output_type": "execute_result"
    }
   ],
   "source": [
    "invoice_new.groupby(['State','ServiceTime_category']).size().sort_values(ascending=True)"
   ]
  },
  {
   "cell_type": "code",
   "execution_count": 2,
   "metadata": {},
   "outputs": [
    {
     "name": "stderr",
     "output_type": "stream",
     "text": [
      "C:\\Users\\shami\\Anaconda3\\lib\\site-packages\\IPython\\core\\interactiveshell.py:3049: DtypeWarning: Columns (1) have mixed types. Specify dtype option on import or set low_memory=False.\n",
      "  interactivity=interactivity, compiler=compiler, result=result)\n"
     ]
    }
   ],
   "source": [
    "cust_data = pd.read_csv('Customer Data Mod.csv')"
   ]
  },
  {
   "cell_type": "code",
   "execution_count": 3,
   "metadata": {},
   "outputs": [],
   "source": [
    "cust_data = cust_data.drop(['Unnamed: 0'],axis=1)"
   ]
  },
  {
   "cell_type": "code",
   "execution_count": 4,
   "metadata": {},
   "outputs": [
    {
     "data": {
      "text/plain": [
       "Text(0.5, 1.0, 'Data Origin Distribution')"
      ]
     },
     "execution_count": 4,
     "metadata": {},
     "output_type": "execute_result"
    },
    {
     "data": {
      "image/png": "[encoded data removed]",
      "text/plain": [
       "<Figure size 576x432 with 1 Axes>"
      ]
     },
     "metadata": {
      "needs_background": "light"
     },
     "output_type": "display_data"
    }
   ],
   "source": [
    "plt.figure(figsize=(8,6))\n",
    "sns.barplot(y=cust_data['Data Origin'].value_counts().index,x=cust_data['Data Origin'].value_counts().values)\n",
    "plt.xlabel('Number')\n",
    "plt.ylabel('Data origin')\n",
    "plt.title('Data Origin Distribution')"
   ]
  },
  {
   "cell_type": "code",
   "execution_count": 5,
   "metadata": {},
   "outputs": [],
   "source": [
    "plant_info = pd.read_excel('Plant Master.xlsx')"
   ]
  },
  {
   "cell_type": "code",
   "execution_count": 6,
   "metadata": {},
   "outputs": [
    {
     "data": {
      "text/html": [
       "<div>\n",
       "<style scoped>\n",
       "    .dataframe tbody tr th:only-of-type {\n",
       "        vertical-align: middle;\n",
       "    }\n",
       "\n",
       "    .dataframe tbody tr th {\n",
       "        vertical-align: top;\n",
       "    }\n",
       "\n",
       "    .dataframe thead th {\n",
       "        text-align: right;\n",
       "    }\n",
       "</style>\n",
       "<table border=\"1\" class=\"dataframe\">\n",
       "  <thead>\n",
       "    <tr style=\"text-align: right;\">\n",
       "      <th></th>\n",
       "      <th>Plant</th>\n",
       "      <th>Name 1</th>\n",
       "      <th>Valuation Area</th>\n",
       "      <th>Customer no. - plant</th>\n",
       "      <th>Vendor number plant</th>\n",
       "      <th>Factory calendar</th>\n",
       "      <th>Name 2</th>\n",
       "      <th>House number and street</th>\n",
       "      <th>PO Box</th>\n",
       "      <th>Postal Code</th>\n",
       "      <th>City</th>\n",
       "      <th>Sales organization</th>\n",
       "      <th>State</th>\n",
       "    </tr>\n",
       "  </thead>\n",
       "  <tbody>\n",
       "    <tr>\n",
       "      <th>0</th>\n",
       "      <td>BC07</td>\n",
       "      <td>NERKUNDRAM</td>\n",
       "      <td>BC07</td>\n",
       "      <td>PLBC07</td>\n",
       "      <td>PLBC07</td>\n",
       "      <td>IN</td>\n",
       "      <td>NaN</td>\n",
       "      <td>No.117 Poonamallee High Road,</td>\n",
       "      <td>600107.0</td>\n",
       "      <td>600107</td>\n",
       "      <td>Chennai</td>\n",
       "      <td>MFCS</td>\n",
       "      <td>Tamil Nadu</td>\n",
       "    </tr>\n",
       "    <tr>\n",
       "      <th>1</th>\n",
       "      <td>BC30</td>\n",
       "      <td>SAS NAGAR - MOHALI</td>\n",
       "      <td>BC30</td>\n",
       "      <td>PLBC30</td>\n",
       "      <td>PLBC30</td>\n",
       "      <td>IN</td>\n",
       "      <td>NaN</td>\n",
       "      <td>C-118, Phase 07,</td>\n",
       "      <td>160055.0</td>\n",
       "      <td>160055</td>\n",
       "      <td>Mohali</td>\n",
       "      <td>MFCS</td>\n",
       "      <td>Punjab</td>\n",
       "    </tr>\n",
       "    <tr>\n",
       "      <th>2</th>\n",
       "      <td>X001</td>\n",
       "      <td>X001 - AUTO PLANET WHEELS</td>\n",
       "      <td>X001</td>\n",
       "      <td>PLX001</td>\n",
       "      <td>NaN</td>\n",
       "      <td>IN</td>\n",
       "      <td>Thane</td>\n",
       "      <td>Unit No.3, Kothari Compound,</td>\n",
       "      <td>400610.0</td>\n",
       "      <td>400610</td>\n",
       "      <td>Thane</td>\n",
       "      <td>MFCA</td>\n",
       "      <td>Maharashtra</td>\n",
       "    </tr>\n",
       "    <tr>\n",
       "      <th>3</th>\n",
       "      <td>X002</td>\n",
       "      <td>X002 - BHANDARI INDUSTRIES PVT</td>\n",
       "      <td>X002</td>\n",
       "      <td>PLX002</td>\n",
       "      <td>NaN</td>\n",
       "      <td>IN</td>\n",
       "      <td>Ghaziabad</td>\n",
       "      <td>18/1, C Site 4, Sahibabad</td>\n",
       "      <td>201010.0</td>\n",
       "      <td>201010</td>\n",
       "      <td>Ghaziabad</td>\n",
       "      <td>MFCA</td>\n",
       "      <td>Uttar Pradesh</td>\n",
       "    </tr>\n",
       "    <tr>\n",
       "      <th>4</th>\n",
       "      <td>X003</td>\n",
       "      <td>X003 - Om Sri Satya Sai Automo</td>\n",
       "      <td>X003</td>\n",
       "      <td>PLX003</td>\n",
       "      <td>NaN</td>\n",
       "      <td>IN</td>\n",
       "      <td>Bengaluru</td>\n",
       "      <td>#75, Sy.No. 83/2, Panathur Mai</td>\n",
       "      <td>560087.0</td>\n",
       "      <td>560087</td>\n",
       "      <td>Bengaluru</td>\n",
       "      <td>MFCB</td>\n",
       "      <td>Karnataka</td>\n",
       "    </tr>\n",
       "  </tbody>\n",
       "</table>\n",
       "</div>"
      ],
      "text/plain": [
       "  Plant                          Name 1 Valuation Area Customer no. - plant  \\\n",
       "0  BC07                      NERKUNDRAM           BC07               PLBC07   \n",
       "1  BC30              SAS NAGAR - MOHALI           BC30               PLBC30   \n",
       "2  X001       X001 - AUTO PLANET WHEELS           X001               PLX001   \n",
       "3  X002  X002 - BHANDARI INDUSTRIES PVT           X002               PLX002   \n",
       "4  X003  X003 - Om Sri Satya Sai Automo           X003               PLX003   \n",
       "\n",
       "  Vendor number plant Factory calendar     Name 2  \\\n",
       "0              PLBC07               IN        NaN   \n",
       "1              PLBC30               IN        NaN   \n",
       "2                 NaN               IN      Thane   \n",
       "3                 NaN               IN  Ghaziabad   \n",
       "4                 NaN               IN  Bengaluru   \n",
       "\n",
       "          House number and street    PO Box  Postal Code       City  \\\n",
       "0   No.117 Poonamallee High Road,  600107.0       600107    Chennai   \n",
       "1                C-118, Phase 07,  160055.0       160055     Mohali   \n",
       "2    Unit No.3, Kothari Compound,  400610.0       400610      Thane   \n",
       "3       18/1, C Site 4, Sahibabad  201010.0       201010  Ghaziabad   \n",
       "4  #75, Sy.No. 83/2, Panathur Mai  560087.0       560087  Bengaluru   \n",
       "\n",
       "  Sales organization          State  \n",
       "0               MFCS     Tamil Nadu  \n",
       "1               MFCS         Punjab  \n",
       "2               MFCA    Maharashtra  \n",
       "3               MFCA  Uttar Pradesh  \n",
       "4               MFCB      Karnataka  "
      ]
     },
     "execution_count": 6,
     "metadata": {},
     "output_type": "execute_result"
    }
   ],
   "source": [
    "plant_info.head()"
   ]
  },
  {
   "cell_type": "code",
   "execution_count": 7,
   "metadata": {},
   "outputs": [
    {
     "data": {
      "text/plain": [
       "<matplotlib.axes._subplots.AxesSubplot at 0x1d7113915f8>"
      ]
     },
     "execution_count": 7,
     "metadata": {},
     "output_type": "execute_result"
    },
    {
     "data": {
      "image/png": "[encoded data removed]",
      "text/plain": [
       "<Figure size 576x576 with 1 Axes>"
      ]
     },
     "metadata": {
      "needs_background": "light"
     },
     "output_type": "display_data"
    }
   ],
   "source": [
    "### State with most number of service centres\n",
    "\n",
    "plt.figure(figsize=(8,8),edgecolor='b')\n",
    "plt.xlabel('Number of service centres')\n",
    "plt.ylabel('States')\n",
    "plt.title('Top ten states with most service centres')\n",
    "sns.barplot(y=plant_info['State'].value_counts()[:10].index,\n",
    "            x=plant_info['State'].value_counts()[:10].values)"
   ]
  },
  {
   "cell_type": "code",
   "execution_count": 9,
   "metadata": {},
   "outputs": [
    {
     "data": {
      "text/plain": [
       "<matplotlib.axes._subplots.AxesSubplot at 0x1d711530978>"
      ]
     },
     "execution_count": 9,
     "metadata": {},
     "output_type": "execute_result"
    },
    {
     "data": {
      "image/png": "[encoded data removed]",
      "text/plain": [
       "<Figure size 576x432 with 1 Axes>"
      ]
     },
     "metadata": {
      "needs_background": "light"
     },
     "output_type": "display_data"
    }
   ],
   "source": [
    "### State with most number of service centres\n",
    "\n",
    "plt.figure(figsize=(8,6),edgecolor='b')\n",
    "plt.xlabel('Number of service centres')\n",
    "plt.ylabel('States')\n",
    "plt.title('Top ten states with least service centre locations')\n",
    "sns.barplot(y=plant_info['State'].value_counts()[:-11:-1].index,\n",
    "            x=plant_info['State'].value_counts()[:-11:-1].values)"
   ]
  }
 ],
 "metadata": {
  "kernelspec": {
   "display_name": "Python 3",
   "language": "python",
   "name": "python3"
  },
  "language_info": {
   "codemirror_mode": {
    "name": "ipython",
    "version": 3
   },
   "file_extension": ".py",
   "mimetype": "text/x-python",
   "name": "python",
   "nbconvert_exporter": "python",
   "pygments_lexer": "ipython3",
   "version": "3.7.3"
  }
 },
 "nbformat": 4,
 "nbformat_minor": 2
}
